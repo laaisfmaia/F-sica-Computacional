{
 "cells": [
  {
   "cell_type": "markdown",
   "metadata": {},
   "source": [
    "**Trabalho EDO - Projétil**"
   ]
  },
  {
   "cell_type": "markdown",
   "metadata": {},
   "source": [
    "Nome: Lais de Figueiredo Maia ; 2016034704"
   ]
  },
  {
   "cell_type": "code",
   "execution_count": 1,
   "metadata": {},
   "outputs": [],
   "source": [
    "import numpy as np\n",
    "import matplotlib.pyplot as plt\n",
    "%matplotlib inline"
   ]
  },
  {
   "cell_type": "markdown",
   "metadata": {},
   "source": [
    "Uma forma conhecida de força de atrito que pode freiar o projetil é proporcional à velocidade do projetil elevada a uma potencia $n$, logo estaria dada por:\n",
    "\n",
    "$$\n",
    "F = - k m |v|^n \\frac{{\\bf v}}{|v|},\n",
    "$$\n",
    "\n",
    "onde o termo $-\\frac{{\\bf v}}{|v|}$  asegura que a força seja oposta ao movimento. As equações de movimento ficariam:\n",
    "\n",
    "$$\n",
    "\\frac{d v_x}{dt} = -k v_x^n \\frac{v_x}{|v|} \\; \\;,  \\frac{d v_z}{dt} = -g - k v_y^n \\frac{v_y}{|v|}\n",
    "$$\n",
    "\n",
    "$$\n",
    "\\frac{d x}{dt} = v_x \\; \\;,  \\frac{d z}{dt} = v_z\n",
    "$$\n",
    "\n",
    "com, $|v| = \\sqrt{v_x^2 + v_y^2}$."
   ]
  },
  {
   "cell_type": "markdown",
   "metadata": {},
   "source": [
    "1) Adicione as forças de atrito no código acima, verifique o resultado para $n=1$. O valor de $n=1$ é valido para baixas velocidades. \n",
    " "
   ]
  },
  {
   "cell_type": "code",
   "execution_count": 2,
   "metadata": {},
   "outputs": [],
   "source": [
    "def rk4vec( t0, m, u0, dt, f ):\n",
    "    \n",
    "    import numpy as np\n",
    "    \n",
    "    f0 = f ( t0, m, u0 )\n",
    "    t1 = t0 + dt / 2.0\n",
    "    u1 = np.zeros ( m )\n",
    "    u1[0:m] = u0[0:m] + dt * f0[0:m] / 2.0\n",
    "    f1 = f ( t1, m, u1 )\n",
    "    \n",
    "    t2 = t0 + dt / 2.0\n",
    "    u2 = np.zeros ( m )\n",
    "    u2[0:m] = u0[0:m] + dt * f1[0:m] / 2.0\n",
    "    f2 = f ( t2, m, u2 )\n",
    "    \n",
    "    t3 = t0 + dt\n",
    "    u3 = np.zeros ( m )\n",
    "    u3[0:m] = u0[0:m] + dt * f2[0:m]\n",
    "    f3 = f ( t3, m, u3 )\n",
    "    \n",
    "    u = np.zeros ( m )\n",
    "    u[0:m] = u0[0:m] + ( dt / 6.0 ) * ( \\\n",
    "                                       f0[0:m] \\\n",
    "                                       + 2.0 * f1[0:m] \\\n",
    "                                       + 2.0 * f2[0:m] \\\n",
    "                                       +       f3[0:m] )\n",
    "    return u"
   ]
  },
  {
   "cell_type": "code",
   "execution_count": 3,
   "metadata": {},
   "outputs": [],
   "source": [
    "def projetil(angle=45.,v0=50.):\n",
    "    m = 4   # numero de equaçoes \n",
    "    n = 50 # numero de passos temporais\n",
    "    \n",
    "    tmin = 0.\n",
    "    tmax = 8.\n",
    "    t = np.linspace(tmin,tmax,n)\n",
    "    dt = t[1] - t[0]\n",
    "    \n",
    "    # agora criamos arrays para nossas variaveis\n",
    "    # u0 para valor inicial, u1 para valor final\n",
    "    # u0[0] : posiçao x\n",
    "    # u0[1] : vel x\n",
    "    # u0[2] : posiçao z\n",
    "    # u0[3] : vel z\n",
    "    \n",
    "    x  = np.zeros([n])\n",
    "    vx = np.zeros([n])\n",
    "    z  = np.zeros([n])\n",
    "    vz = np.zeros([n])\n",
    "    \n",
    "    u0 = np.zeros([m])\n",
    "    u1 = np.zeros_like(u0)\n",
    "    angulo = angle*np.pi/180.\n",
    "    \n",
    "    # condicoes iniciais\n",
    "    u0[0] = 0.\n",
    "    u0[1] = v0*np.cos(angulo)\n",
    "    u0[2] = 0.\n",
    "    u0[3] = v0*np.sin(angulo)\n",
    "    \n",
    "    t0 = t[0]\n",
    "    \n",
    "    for i in range(n):\n",
    "        \n",
    "        # colocamos os valores iniciais nos arrays das variaveis\n",
    "        \n",
    "        x[i]  = u0[0]\n",
    "        vx[i] = u0[1]\n",
    "        z[i]  = u0[2]\n",
    "        vz[i] = u0[3]\n",
    "        \n",
    "        # chamamos a rotina rk4vec\n",
    "        u1 = rk4vec( t[i], m, u0, dt, proj_f)\n",
    "        \n",
    "        u0 = np.copy(u1)\n",
    "        \n",
    "    return x,vx,z,vz,t"
   ]
  },
  {
   "cell_type": "code",
   "execution_count": 4,
   "metadata": {},
   "outputs": [],
   "source": [
    "# Funcao que tem as equacoes diferenciais sem atrito\n",
    "\n",
    "def proj_f(t,m,u):\n",
    "    uprime = np.zeros_like(u)\n",
    "    \n",
    "    uprime[0] = u[1]\n",
    "    uprime[1] = 0.\n",
    "    uprime[2] = u[3]\n",
    "    uprime[3] = -9.8\n",
    "    \n",
    "    return uprime"
   ]
  },
  {
   "cell_type": "code",
   "execution_count": 5,
   "metadata": {},
   "outputs": [],
   "source": [
    "x, vx, z, vz, t = projetil(angle=65,v0=50)"
   ]
  },
  {
   "cell_type": "code",
   "execution_count": 6,
   "metadata": {},
   "outputs": [],
   "source": [
    "    # u0[0] : posiçao x\n",
    "    # u0[1] : vel x\n",
    "    # u0[2] : posiçao z\n",
    "    # u0[3] : vel z"
   ]
  },
  {
   "cell_type": "code",
   "execution_count": 7,
   "metadata": {},
   "outputs": [],
   "source": [
    "# Funcao que tem as equacoes diferenciais para n=1 com atrito\n",
    "\n",
    "def proj_f(t,m,u):\n",
    "    uprime = np.zeros_like(u)\n",
    "    k=0.1\n",
    "    pot=1.\n",
    "    modv = (u[1]**2 + u[3]**2)**(1./2.)\n",
    "    \n",
    "    #equações das derivadas\n",
    "    #uprime[0]=dx/dt = Vx ; uprime[1]=dVx/dt ; uprime[2]=Vz ; uprime[3]= dVz/dt\n",
    "    uprime[0] = u[1]\n",
    "    uprime[1] = -k*u[1]**pot*(u[1]/(modv))   \n",
    "    uprime[2] = u[3]\n",
    "    uprime[3] = -9.8 -k*u[3]**pot*(u[3]/(modv))\n",
    "    \n",
    "    return uprime"
   ]
  },
  {
   "cell_type": "code",
   "execution_count": 8,
   "metadata": {},
   "outputs": [],
   "source": [
    "x1, vx1, z1, vz1, t1 = projetil(angle=65,v0=50)"
   ]
  },
  {
   "cell_type": "code",
   "execution_count": 9,
   "metadata": {},
   "outputs": [
    {
     "data": {
      "image/png": "[encoded data removed]",
      "text/plain": [
       "<Figure size 432x288 with 1 Axes>"
      ]
     },
     "metadata": {},
     "output_type": "display_data"
    },
    {
     "data": {
      "image/png": "[encoded data removed]",
      "text/plain": [
       "<Figure size 432x288 with 1 Axes>"
      ]
     },
     "metadata": {
      "needs_background": "light"
     },
     "output_type": "display_data"
    }
   ],
   "source": [
    "from IPython import display\n",
    "import time\n",
    "\n",
    "for i in range(50):\n",
    "    plt.xlim(0.,370)\n",
    "    plt.ylim(-100,370)\n",
    "    plt.xlabel('X')\n",
    "    plt.ylabel('Z')\n",
    "    #projetil sem atrito:\n",
    "    plt.plot(x[i],z[i],'o',markersize=10)\n",
    "    plt.plot(x[0:i],z[0:i])\n",
    "    #projetil com pot=1:\n",
    "    plt.plot(x1[i],z1[i],'o',markersize=10)\n",
    "    plt.plot(x1[0:i],z1[0:i])\n",
    "    display.clear_output(wait=True)\n",
    "    display.display(plt.gcf())\n",
    "    plt.gcf().clear()\n",
    "    time.sleep(0.1)\n",
    "    plt.title('Movimento do projétil')\n",
    "\n"
   ]
  },
  {
   "cell_type": "markdown",
   "metadata": {},
   "source": [
    "2) Já para velocidades médias e\n",
    "altas $n=3/2$ e $n=2$, respectivamente.  Aumente a velocidade inicial do projetil para $100$\n",
    "e $200$ m/s e mude os valores de $n$ para cada caso. Estime o valor de $k$ de tal forma\n",
    "que a força de atrito inicial seja a mesma nos três casos."
   ]
  },
  {
   "cell_type": "code",
   "execution_count": 10,
   "metadata": {},
   "outputs": [],
   "source": [
    "# Funcao que tem as equacoes diferenciais para n=3/2 com atrito\n",
    "\n",
    "def proj_f(t,m,u):\n",
    "    uprime = np.zeros_like(u)\n",
    "    k=0.005\n",
    "    pot=3./2.\n",
    "    modv = (u[1]**2 + u[3]**2)**(1./2.)\n",
    "    \n",
    "    #equações das derivadas\n",
    "    #uprime[0]=dx/dt = Vx ; uprime[1]=dVx/dt ; uprime[2]=Vz ; uprime[3]= dVz/dt\n",
    "    uprime[0] = u[1]\n",
    "    uprime[1] = -k*u[1]**pot*(u[1]/(modv))   \n",
    "    uprime[2] = u[3]\n",
    "    uprime[3] = -9.8 -k*u[3]**pot*(u[3]/(modv))\n",
    "    \n",
    "    return uprime"
   ]
  },
  {
   "cell_type": "code",
   "execution_count": 11,
   "metadata": {},
   "outputs": [],
   "source": [
    "x2, vx2, z2, vz2, t2 = projetil(angle=65,v0=100)"
   ]
  },
  {
   "cell_type": "code",
   "execution_count": 12,
   "metadata": {},
   "outputs": [],
   "source": [
    "# Funcao que tem as equacoes diferenciais para n=2 com atrito\n",
    "\n",
    "def proj_f(t,m,u):\n",
    "    uprime = np.zeros_like(u)\n",
    "    k=0.005\n",
    "    pot=2.\n",
    "    modv = (u[1]**2 + u[3]**2)**(1./2.)\n",
    "    \n",
    "    #equações das derivadas\n",
    "    #uprime[0]=dx/dt = Vx ; uprime[1]=dVx/dt ; uprime[2]=Vz ; uprime[3]= dVz/dt\n",
    "    uprime[0] = u[1]\n",
    "    uprime[1] = -k*u[1]**pot*(u[1]/(modv))   \n",
    "    uprime[2] = u[3]\n",
    "    uprime[3] = -9.8 -k*u[3]**pot*(u[3]/(modv))\n",
    "    \n",
    "    return uprime"
   ]
  },
  {
   "cell_type": "code",
   "execution_count": 13,
   "metadata": {},
   "outputs": [],
   "source": [
    "x3, vx3, z3, vz3, t3 = projetil(angle=65,v0=200)"
   ]
  },
  {
   "cell_type": "code",
   "execution_count": 14,
   "metadata": {},
   "outputs": [
    {
     "data": {
      "image/png": "[encoded data removed]",
      "text/plain": [
       "<Figure size 432x288 with 1 Axes>"
      ]
     },
     "metadata": {},
     "output_type": "display_data"
    },
    {
     "data": {
      "image/png": "[encoded data removed]",
      "text/plain": [
       "<Figure size 432x288 with 1 Axes>"
      ]
     },
     "metadata": {
      "needs_background": "light"
     },
     "output_type": "display_data"
    }
   ],
   "source": [
    "from IPython import display\n",
    "import time\n",
    "\n",
    "for i in range(50):\n",
    "    plt.xlim(0.,370)\n",
    "    plt.ylim(-100,370)\n",
    "    plt.xlabel('X')\n",
    "    plt.ylabel('Z')\n",
    "    #projetil sem atrito:\n",
    "    plt.plot(x[i],z[i],'o',markersize=10)\n",
    "    plt.plot(x[0:i],z[0:i])\n",
    "    #projetil com pot=1:\n",
    "    plt.plot(x1[i],z1[i],'o',markersize=10)\n",
    "    plt.plot(x1[0:i],z1[0:i])\n",
    "    #projetil com pot=3/2:\n",
    "    plt.plot(x2[i],z2[i],'o',markersize=10)\n",
    "    plt.plot(x2[0:i],z2[0:i])\n",
    "    #projetil com pot=2:\n",
    "    plt.plot(x3[i],z3[i],'o',markersize=10)\n",
    "    plt.plot(x3[0:i],z3[0:i])\n",
    "    #plt.scatter(x[0:i],z[0:i])\n",
    "    display.clear_output(wait=True)\n",
    "    display.display(plt.gcf())\n",
    "    plt.gcf().clear()\n",
    "    time.sleep(0.1)\n",
    "    plt.title('Movimento do projétil')\n",
    "    #plt.legend(label='Projétil sem atrito')\n"
   ]
  },
  {
   "cell_type": "markdown",
   "metadata": {},
   "source": [
    "## obs: o trabalho do campo foi enviado como prova 3"
   ]
  },
  {
   "cell_type": "code",
   "execution_count": null,
   "metadata": {},
   "outputs": [],
   "source": []
  },
  {
   "cell_type": "code",
   "execution_count": null,
   "metadata": {},
   "outputs": [],
   "source": []
  }
 ],
 "metadata": {
  "kernelspec": {
   "display_name": "Python 3",
   "language": "python",
   "name": "python3"
  },
  "language_info": {
   "codemirror_mode": {
    "name": "ipython",
    "version": 3
   },
   "file_extension": ".py",
   "mimetype": "text/x-python",
   "name": "python",
   "nbconvert_exporter": "python",
   "pygments_lexer": "ipython3",
   "version": "3.5.2"
  }
 },
 "nbformat": 4,
 "nbformat_minor": 2
}
