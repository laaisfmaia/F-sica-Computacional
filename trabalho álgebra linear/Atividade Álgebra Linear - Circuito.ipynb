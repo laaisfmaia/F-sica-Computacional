{
 "cells": [
  {
   "cell_type": "markdown",
   "metadata": {},
   "source": [
    "Atividade Ágebra linear - Circuito"
   ]
  },
  {
   "cell_type": "markdown",
   "metadata": {},
   "source": [
    "**Nome:** Lais de Figueiredo Maia ; 2016034704"
   ]
  },
  {
   "cell_type": "code",
   "execution_count": 1,
   "metadata": {},
   "outputs": [],
   "source": [
    "import numpy as np"
   ]
  },
  {
   "cell_type": "markdown",
   "metadata": {},
   "source": [
    "2 - Encontre as correntes no circuito seguinte, considere as direções iniciais indicadas na figura. "
   ]
  },
  {
   "cell_type": "markdown",
   "metadata": {},
   "source": [
    "As equações obtidas foram:\n",
    "\n",
    "$$\n",
    "-1I_1 -I_2 +I_3 =0\n",
    "$$\n",
    "\n",
    "$$\n",
    "-10I_1 -40I_3 = -10\n",
    "$$\n",
    "\n",
    "$$\n",
    "-20I_2 - 40I_3 = -20\n",
    "$$\n"
   ]
  },
  {
   "cell_type": "code",
   "execution_count": 2,
   "metadata": {},
   "outputs": [
    {
     "name": "stdout",
     "output_type": "stream",
     "text": [
      "As correntes encontradas são:\n",
      "I_1 = -0.1428571428571427\n",
      "I_2 = 0.42857142857142866\n",
      "I_3 = 0.2857142857142857\n"
     ]
    }
   ],
   "source": [
    "A = np.array([[-1,-1,1],[-10,0,-40],[0,-20,-40]])\n",
    "V = np.array([0,-10,-20])\n",
    "I = np.linalg.solve(A,V)\n",
    "\n",
    "print('As correntes encontradas são:')\n",
    "print('I_1 =', I[0])\n",
    "print('I_2 =', I[1])\n",
    "print('I_3 =', I[2])"
   ]
  },
  {
   "cell_type": "markdown",
   "metadata": {},
   "source": [
    "A corrente $I_1$ está na direção errada, uma vez que o sinal da corrente ficou negativo."
   ]
  },
  {
   "cell_type": "code",
   "execution_count": null,
   "metadata": {},
   "outputs": [],
   "source": []
  },
  {
   "cell_type": "code",
   "execution_count": null,
   "metadata": {
    "collapsed": true
   },
   "outputs": [],
   "source": []
  }
 ],
 "metadata": {
  "kernelspec": {
   "display_name": "Python 3",
   "language": "python",
   "name": "python3"
  },
  "language_info": {
   "codemirror_mode": {
    "name": "ipython",
    "version": 3
   },
   "file_extension": ".py",
   "mimetype": "text/x-python",
   "name": "python",
   "nbconvert_exporter": "python",
   "pygments_lexer": "ipython3",
   "version": "3.5.2"
  }
 },
 "nbformat": 4,
 "nbformat_minor": 2
}
