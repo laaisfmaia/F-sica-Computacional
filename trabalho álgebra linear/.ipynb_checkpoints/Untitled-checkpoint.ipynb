{
 "cells": [
  {
   "cell_type": "code",
   "execution_count": 1,
   "metadata": {},
   "outputs": [],
   "source": [
    "import numpy as np\n",
    "import time\n",
    "import matplotlib.pyplot as plt\n",
    "%matplotlib inline"
   ]
  },
  {
   "cell_type": "code",
   "execution_count": 2,
   "metadata": {},
   "outputs": [],
   "source": [
    "# Função para multiplicar duas matrizes\n",
    "\n",
    "def mult_mat(A,B):\n",
    "    # extraimos a dimensão, m x n, da matriz A\n",
    "    m, n = A.shape\n",
    "    # e o numero de colunas da matriz B\n",
    "    p = B.shape[1]\n",
    "\n",
    "    C = np.zeros((m,p))\n",
    "\n",
    "    for i in range(0,m):\n",
    "        for j in range(0,p):\n",
    "            for k in range(0,n):\n",
    "                C[i,j] += A[i,k]*B[k,j] \n",
    "    return C"
   ]
  },
  {
   "cell_type": "code",
   "execution_count": 6,
   "metadata": {},
   "outputs": [],
   "source": [
    "#para n=10\n",
    "import time\n",
    "\n",
    "#criar um array com os valores de val = n = [10,100,1000]\n",
    "#criar um array com os valores de tempo correspondentes aos n's\n",
    "val = []\n",
    "temp = []\n",
    "n = 10\n",
    "s = 1./np.sqrt(float(n))\n",
    "a1 = np.zeros([n,n])\n",
    "\n",
    "for i in range(n):\n",
    "    for j in range(n):\n",
    "        angulo = 2.*np.pi*(i-1)*(j-1)/float(n)\n",
    "        a1[i,j] = s * (np.sin(angulo) + np.cos(angulo))"
   ]
  },
  {
   "cell_type": "code",
   "execution_count": null,
   "metadata": {},
   "outputs": [],
   "source": [
    "b1 = np.copy(a1)\n",
    "t = time.time()\n",
    "c1 = np.matmul(a1,b1)\n",
    "t = time.time() - t\n"
   ]
  }
 ],
 "metadata": {
  "kernelspec": {
   "display_name": "Python 3",
   "language": "python",
   "name": "python3"
  },
  "language_info": {
   "codemirror_mode": {
    "name": "ipython",
    "version": 3
   },
   "file_extension": ".py",
   "mimetype": "text/x-python",
   "name": "python",
   "nbconvert_exporter": "python",
   "pygments_lexer": "ipython3",
   "version": "3.5.2"
  }
 },
 "nbformat": 4,
 "nbformat_minor": 2
}
