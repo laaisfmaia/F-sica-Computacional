{
 "cells": [
  {
   "cell_type": "markdown",
   "metadata": {},
   "source": [
    "Atividade Ágebra linear - Mecânica"
   ]
  },
  {
   "cell_type": "markdown",
   "metadata": {},
   "source": [
    "**Nome:** Lais de Figueiredo Maia ; 2016034704"
   ]
  },
  {
   "cell_type": "code",
   "execution_count": 1,
   "metadata": {},
   "outputs": [],
   "source": [
    "import numpy as np\n",
    "import scipy.linalg"
   ]
  },
  {
   "cell_type": "markdown",
   "metadata": {},
   "source": [
    "**Utilize decomposição LU para resolver o sistema de equações derivado para resolver o problema de mecânica apresentado na figura seguinte,**"
   ]
  },
  {
   "cell_type": "markdown",
   "metadata": {},
   "source": [
    "**Escreva as equações que mantém o sistema estatico, e encontre as forças $F_1$, $F_2$ e $F_3$.**"
   ]
  },
  {
   "cell_type": "markdown",
   "metadata": {},
   "source": [
    "As equações obtidas foram:\n",
    "\n",
    "Para o eixo y:\n",
    "$$\n",
    "F_{1}(0.935) -F_{2}(0.946) -F_{3}(0.835) = -926 \\nonumber\n",
    "$$\n",
    "\n",
    "Para o eixo x:\n",
    "$$\n",
    "F_{1}(0.353) -F_{2}(0.324) +F_{3}(0.55) = 0 \\nonumber\n",
    "$$\n",
    "\n",
    "Em relação ao torque resultante:\n",
    "$$\n",
    "F_{1}(7.296) -F_{2}(1.419) -F_{3}(4.341) = 0 \\nonumber\n",
    "$$\n",
    "\n",
    "Assim, o sistema de matrizes será:\n",
    "\n",
    "$$\n",
    "\\begin{bmatrix}\n",
    "                           0.935 & -0.946 &-0.835 \\\\\n",
    "                           0.353 &-0.324 & 0.550\\\\\n",
    "                           7.296 &-1.419 &-4.341\\\\\n",
    "                      \\end{bmatrix} \\begin{bmatrix}\n",
    "                           F_1\\\\\n",
    "                           F_2\\\\\n",
    "                           F_3 \\\\\n",
    "                      \\end{bmatrix} =\\begin{bmatrix}\n",
    "                           -926\\\\\n",
    "                           0\\\\\n",
    "                           0 \\\\\n",
    "                      \\end{bmatrix}.\n",
    "$$"
   ]
  },
  {
   "cell_type": "code",
   "execution_count": 2,
   "metadata": {},
   "outputs": [],
   "source": [
    "# A*x = b\n",
    "A = np.array([[0.935,-0.946,-0.835],[0.353,-0.324,0.550],[7.296,-1.419,-4.341]])\n",
    "b = np.array([[-926],[0],[0]])"
   ]
  },
  {
   "cell_type": "code",
   "execution_count": 3,
   "metadata": {},
   "outputs": [],
   "source": [
    "P, L, U = scipy.linalg.lu(A)"
   ]
  },
  {
   "cell_type": "code",
   "execution_count": 4,
   "metadata": {},
   "outputs": [
    {
     "data": {
      "text/plain": [
       "array([[1.        , 0.        , 0.        ],\n",
       "       [0.12815241, 1.        , 0.        ],\n",
       "       [0.04838268, 0.33415482, 1.        ]])"
      ]
     },
     "execution_count": 4,
     "metadata": {},
     "output_type": "execute_result"
    }
   ],
   "source": [
    "L"
   ]
  },
  {
   "cell_type": "code",
   "execution_count": 5,
   "metadata": {},
   "outputs": [
    {
     "data": {
      "text/plain": [
       "array([[ 7.296     , -1.419     , -4.341     ],\n",
       "       [ 0.        , -0.76415173, -0.27869038],\n",
       "       [ 0.        ,  0.        ,  0.85315493]])"
      ]
     },
     "execution_count": 5,
     "metadata": {},
     "output_type": "execute_result"
    }
   ],
   "source": [
    "U"
   ]
  },
  {
   "cell_type": "code",
   "execution_count": 7,
   "metadata": {},
   "outputs": [
    {
     "data": {
      "text/plain": [
       "array([[ 425.74968519],\n",
       "       [1079.52762135],\n",
       "       [ 362.68601899]])"
      ]
     },
     "execution_count": 7,
     "metadata": {},
     "output_type": "execute_result"
    }
   ],
   "source": [
    "# Sabendo que A=L*U\n",
    "# (L*U)*x = b\n",
    "LU = scipy.linalg.lu_factor(A)\n",
    "x = scipy.linalg.lu_solve(LU, b)\n",
    "x"
   ]
  },
  {
   "cell_type": "code",
   "execution_count": 9,
   "metadata": {},
   "outputs": [
    {
     "name": "stdout",
     "output_type": "stream",
     "text": [
      "Os valores obtidos para as forças foram:\n",
      "F_1 = 425.75 N\n",
      "F_2 = 1079.53 N\n",
      "F_3 = 362.69 N\n"
     ]
    }
   ],
   "source": [
    "print('Os valores obtidos para as forças foram:')\n",
    "print('F_1 =', round(x[0][0],2),'N')\n",
    "print('F_2 =', round(x[1][0],2),'N')\n",
    "print('F_3 =', round(x[2][0],2),'N')"
   ]
  },
  {
   "cell_type": "code",
   "execution_count": null,
   "metadata": {},
   "outputs": [],
   "source": []
  }
 ],
 "metadata": {
  "kernelspec": {
   "display_name": "Python 3",
   "language": "python",
   "name": "python3"
  },
  "language_info": {
   "codemirror_mode": {
    "name": "ipython",
    "version": 3
   },
   "file_extension": ".py",
   "mimetype": "text/x-python",
   "name": "python",
   "nbconvert_exporter": "python",
   "pygments_lexer": "ipython3",
   "version": "3.5.2"
  }
 },
 "nbformat": 4,
 "nbformat_minor": 2
}
