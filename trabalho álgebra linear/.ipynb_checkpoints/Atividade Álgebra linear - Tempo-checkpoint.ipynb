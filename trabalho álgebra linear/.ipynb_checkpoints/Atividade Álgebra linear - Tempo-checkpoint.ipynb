{
 "cells": [
  {
   "cell_type": "markdown",
   "metadata": {},
   "source": [
    "Atividade Ágebra linear - tempo"
   ]
  },
  {
   "cell_type": "markdown",
   "metadata": {},
   "source": [
    "**Nome:** Lais de Figueiredo Maia ; 2016034704"
   ]
  },
  {
   "cell_type": "code",
   "execution_count": 2,
   "metadata": {},
   "outputs": [],
   "source": [
    "import numpy as np\n",
    "import time\n",
    "import matplotlib.pyplot as plt\n",
    "%matplotlib inline"
   ]
  },
  {
   "cell_type": "markdown",
   "metadata": {},
   "source": [
    "**1. Vamos agora usar a equação (4) para multiplicar duas matrizes.** \n",
    "\n",
    "$$\n",
    "\\begin{equation}\n",
    "\\mathbf{A}=\\mathbf{BC}   \\Longrightarrow a_{ij} = \\sum_{k=1}^{n} b_{ik}c_{kj},\n",
    "\\label{eq:mtxmtx} \\tag{4}\n",
    "\\end{equation}\n",
    "$$\n",
    "\n",
    "**Começamos com duas matrices pequenas, a matriz A e a matriz C:**"
   ]
  },
  {
   "cell_type": "code",
   "execution_count": 3,
   "metadata": {},
   "outputs": [],
   "source": [
    "# Função para multiplicar duas matrizes\n",
    "\n",
    "def mult_mat(A,B):\n",
    "    # extraimos a dimensão, m x n, da matriz A\n",
    "    m, n = A.shape\n",
    "    # e o numero de colunas da matriz B\n",
    "    p = B.shape[1]\n",
    "\n",
    "    C = np.zeros((m,p))\n",
    "\n",
    "    for i in range(0,m):\n",
    "        for j in range(0,p):\n",
    "            for k in range(0,n):\n",
    "                C[i,j] += A[i,k]*B[k,j] \n",
    "    return C"
   ]
  },
  {
   "cell_type": "code",
   "execution_count": 4,
   "metadata": {},
   "outputs": [],
   "source": [
    "A = np.array([[1,3,4],[3,4,6],[4,6,8]])\n",
    "C = np.array([[-1,  0,  0.5],[0, -2,  1.5],[ 0.5,  1.5, -1.25]])"
   ]
  },
  {
   "cell_type": "code",
   "execution_count": 5,
   "metadata": {},
   "outputs": [
    {
     "name": "stdout",
     "output_type": "stream",
     "text": [
      "Tempo decorrido usando a função .dot = 0.0007555484771728516\n"
     ]
    }
   ],
   "source": [
    "t1 = time.time()\n",
    "d1 = np.dot(A,C)\n",
    "t1 = time.time() - t1\n",
    "print('Tempo decorrido usando a função .dot =', t1)"
   ]
  },
  {
   "cell_type": "code",
   "execution_count": 6,
   "metadata": {},
   "outputs": [
    {
     "name": "stdout",
     "output_type": "stream",
     "text": [
      "Tempo decorrido usando a função .matmul = 0.012413263320922852\n"
     ]
    }
   ],
   "source": [
    "t2 = time.time()\n",
    "AC = np.matmul(A,C)\n",
    "t2 = time.time() - t2\n",
    "print('Tempo decorrido usando a função .matmul =', t2)"
   ]
  },
  {
   "cell_type": "code",
   "execution_count": 7,
   "metadata": {},
   "outputs": [
    {
     "name": "stdout",
     "output_type": "stream",
     "text": [
      "Tempo decorrido usando a função mult_mat() = 0.0005393028259277344\n"
     ]
    }
   ],
   "source": [
    "t3 = time.time()\n",
    "AC2 = mult_mat(A,C)\n",
    "t3 = time.time() - t3\n",
    "print('Tempo decorrido usando a função mult_mat() =', t3)"
   ]
  },
  {
   "cell_type": "markdown",
   "metadata": {},
   "source": [
    "Nota-se que, para esse caso, a função mult_mat() tem um tempo de resposta melhor, ou seja, faz o processamento dos dados de uma forma mais rápida. "
   ]
  },
  {
   "cell_type": "markdown",
   "metadata": {},
   "source": [
    "**2. Utilizando o módulo `time` vamos comparar a velocidade da função criada com as rotinas do numpy `matmul` e `dot`. Grafique o tempo usado por cada rotina como função de $n$, para $n=10,100,1000,10000$.**\n"
   ]
  },
  {
   "cell_type": "code",
   "execution_count": 8,
   "metadata": {},
   "outputs": [],
   "source": [
    "#para n=10\n",
    "import time\n",
    "\n",
    "n = 10\n",
    "s = 1./np.sqrt(float(n))\n",
    "a1 = np.zeros([n,n])\n",
    "\n",
    "for i in range(n):\n",
    "    for j in range(n):\n",
    "        angulo = 2.*np.pi*(i-1)*(j-1)/float(n)\n",
    "        a1[i,j] = s * (np.sin(angulo) + np.cos(angulo))"
   ]
  },
  {
   "cell_type": "code",
   "execution_count": 9,
   "metadata": {},
   "outputs": [
    {
     "name": "stdout",
     "output_type": "stream",
     "text": [
      "O tempo decorrido com n = 10 foi de: 0.00018024444580078125\n"
     ]
    }
   ],
   "source": [
    "#tempo função criada\n",
    "\n",
    "t1_c = 0\n",
    "b1 = np.copy(a1)\n",
    "t1_c = time.time()\n",
    "c1 = np.matmul(a1,b1)\n",
    "t1_c = time.time() - t1_c\n",
    "print('O tempo decorrido com n =',n,'foi de:', t1_c)"
   ]
  },
  {
   "cell_type": "code",
   "execution_count": 10,
   "metadata": {},
   "outputs": [
    {
     "name": "stdout",
     "output_type": "stream",
     "text": [
      "Tempo decorrido com n= 10 usando a função .dot = 0.0008199214935302734\n"
     ]
    }
   ],
   "source": [
    "#tempo função .dot\n",
    "\n",
    "t1_dot = 0\n",
    "t1_dot = time.time()\n",
    "d1 = np.dot(a1,b1)\n",
    "t1_dot = time.time() - t1_dot\n",
    "print('Tempo decorrido com n=',n,'usando a função .dot =', t1_dot)"
   ]
  },
  {
   "cell_type": "code",
   "execution_count": 11,
   "metadata": {},
   "outputs": [
    {
     "name": "stdout",
     "output_type": "stream",
     "text": [
      "Tempo decorrido com n= 10 usando a função .matmul = 0.000202178955078125\n"
     ]
    }
   ],
   "source": [
    "#tempo função .matmul\n",
    "\n",
    "t1_mat = 0\n",
    "t1_mat = time.time()\n",
    "AC = np.matmul(A,C)\n",
    "t1_mat = time.time() - t1_mat\n",
    "print('Tempo decorrido com n=',n,'usando a função .matmul =', t1_mat)"
   ]
  },
  {
   "cell_type": "code",
   "execution_count": 12,
   "metadata": {},
   "outputs": [],
   "source": [
    "#para n=100\n",
    "\n",
    "n = 100\n",
    "s = 1./np.sqrt(float(n))\n",
    "a1 = np.zeros([n,n])\n",
    "\n",
    "for i in range(n):\n",
    "    for j in range(n):\n",
    "        angulo = 2.*np.pi*(i-1)*(j-1)/float(n)\n",
    "        a1[i,j] = s * (np.sin(angulo) + np.cos(angulo))"
   ]
  },
  {
   "cell_type": "code",
   "execution_count": 13,
   "metadata": {},
   "outputs": [
    {
     "name": "stdout",
     "output_type": "stream",
     "text": [
      "O tempo decorrido com n = 100 foi de: 0.027632474899291992\n"
     ]
    }
   ],
   "source": [
    "t2_c = 0\n",
    "b1 = np.copy(a1)\n",
    "t2_c = time.time()\n",
    "c1 = np.matmul(a1,b1)\n",
    "t2_c = time.time() - t2_c\n",
    "print('O tempo decorrido com n =',n,'foi de:', t2_c)"
   ]
  },
  {
   "cell_type": "code",
   "execution_count": 14,
   "metadata": {},
   "outputs": [
    {
     "name": "stdout",
     "output_type": "stream",
     "text": [
      "Tempo decorrido com n= 100 usando a função .dot = 0.00151824951171875\n"
     ]
    }
   ],
   "source": [
    "#tempo função .dot\n",
    "\n",
    "t2_dot = 0\n",
    "t2_dot = time.time()\n",
    "d1 = np.dot(a1,b1)\n",
    "t2_dot = time.time() - t2_dot\n",
    "print('Tempo decorrido com n=',n,'usando a função .dot =', t2_dot)"
   ]
  },
  {
   "cell_type": "code",
   "execution_count": 15,
   "metadata": {},
   "outputs": [
    {
     "name": "stdout",
     "output_type": "stream",
     "text": [
      "Tempo decorrido com n= 100 usando a função .matmul = 0.00019884109497070312\n"
     ]
    }
   ],
   "source": [
    "#tempo função .matmul\n",
    "\n",
    "t2_mat = 0\n",
    "t2_mat = time.time()\n",
    "AC = np.matmul(A,C)\n",
    "t2_mat = time.time() - t2_mat\n",
    "print('Tempo decorrido com n=',n,'usando a função .matmul =', t2_mat)"
   ]
  },
  {
   "cell_type": "code",
   "execution_count": 16,
   "metadata": {},
   "outputs": [],
   "source": [
    "#n=1000\n",
    "\n",
    "n = 1000\n",
    "s = 1./np.sqrt(float(n))\n",
    "a1 = np.zeros([n,n])\n",
    "\n",
    "for i in range(n):\n",
    "    for j in range(n):\n",
    "        angulo = 2.*np.pi*(i-1)*(j-1)/float(n)\n",
    "        a1[i,j] = s * (np.sin(angulo) + np.cos(angulo))"
   ]
  },
  {
   "cell_type": "code",
   "execution_count": 17,
   "metadata": {},
   "outputs": [
    {
     "name": "stdout",
     "output_type": "stream",
     "text": [
      "O tempo decorrido com n = 1000 foi de: 0.27196764945983887\n"
     ]
    }
   ],
   "source": [
    "t3_c = 0\n",
    "b1 = np.copy(a1)\n",
    "t3_c = time.time()\n",
    "c1 = np.matmul(a1,b1)\n",
    "t3_c = time.time() - t3_c\n",
    "print('O tempo decorrido com n =',n,'foi de:', t3_c)"
   ]
  },
  {
   "cell_type": "code",
   "execution_count": 18,
   "metadata": {},
   "outputs": [
    {
     "name": "stdout",
     "output_type": "stream",
     "text": [
      "Tempo decorrido com n= 1000 usando a função .dot = 0.26639294624328613\n"
     ]
    }
   ],
   "source": [
    "#tempo função .dot\n",
    "\n",
    "t3_dot = 0\n",
    "t3_dot = time.time()\n",
    "d1 = np.dot(a1,b1)\n",
    "t3_dot = time.time() - t3_dot\n",
    "print('Tempo decorrido com n=',n,'usando a função .dot =', t3_dot)"
   ]
  },
  {
   "cell_type": "code",
   "execution_count": 19,
   "metadata": {},
   "outputs": [
    {
     "name": "stdout",
     "output_type": "stream",
     "text": [
      "Tempo decorrido com n= 1000 usando a função .matmul = 0.004177570343017578\n"
     ]
    }
   ],
   "source": [
    "#tempo função .matmul\n",
    "\n",
    "t3_mat = 0\n",
    "t3_mat = time.time()\n",
    "AC = np.matmul(A,C)\n",
    "t3_mat = time.time() - t3_mat\n",
    "print('Tempo decorrido com n=',n,'usando a função .matmul =', t3_mat)"
   ]
  },
  {
   "cell_type": "code",
   "execution_count": null,
   "metadata": {},
   "outputs": [],
   "source": [
    "#n=10000\n",
    "\n",
    "n = 10000\n",
    "s = 1./np.sqrt(float(n))\n",
    "a1 = np.zeros([n,n])\n",
    "\n",
    "for i in range(n):\n",
    "    for j in range(n):\n",
    "        angulo = 2.*np.pi*(i-1)*(j-1)/float(n)\n",
    "        a1[i,j] = s * (np.sin(angulo) + np.cos(angulo))"
   ]
  },
  {
   "cell_type": "code",
   "execution_count": null,
   "metadata": {},
   "outputs": [],
   "source": [
    "t4_c = 0\n",
    "b1 = np.copy(a1)\n",
    "t4_c = time.time()\n",
    "c1 = np.matmul(a1,b1)\n",
    "t4_c = time.time() - t4_c\n",
    "print('O tempo decorrido com n =',n,'foi de:', t4_c)"
   ]
  },
  {
   "cell_type": "code",
   "execution_count": null,
   "metadata": {},
   "outputs": [],
   "source": [
    "#tempo função .dot\n",
    "\n",
    "t4_dot = 0\n",
    "t4_dot = time.time()\n",
    "d1 = np.dot(a1,b1)\n",
    "t4_dot = time.time() - t4_dot\n",
    "print('Tempo decorrido com n=',n,'usando a função .dot =', t4_dot)"
   ]
  },
  {
   "cell_type": "code",
   "execution_count": null,
   "metadata": {},
   "outputs": [],
   "source": [
    "#tempo função .matmul\n",
    "\n",
    "t4_mat = 0\n",
    "t4_mat = time.time()\n",
    "AC = np.matmul(A,C)\n",
    "t4_mat = time.time() - t4_mat\n",
    "print('Tempo decorrido com n=',n,'usando a função .matmul =', t4_mat)"
   ]
  },
  {
   "cell_type": "code",
   "execution_count": 20,
   "metadata": {},
   "outputs": [],
   "source": [
    "#array dos tempos para .dot: \n",
    "t_dot = [t1_dot,t2_dot,t3_dot,t4_dot]\n",
    "\n",
    "#array dos tempos para função criada:\n",
    "t_func = [t1_c,t2_c,t3_c,t4_c]\n",
    "\n",
    "#array dos tempos para .matmul\n",
    "t_mat = [t1_mat,t2_mat,t3_mat,t4_mat]\n",
    "\n",
    "\n",
    "n_array = [10,100,1000,10000]\n"
   ]
  },
  {
   "cell_type": "code",
   "execution_count": 26,
   "metadata": {},
   "outputs": [
    {
     "data": {
      "text/plain": [
       "Text(0.5, 1.0, 'Tempo decorrido para processamento em função de n para cada método')"
      ]
     },
     "execution_count": 26,
     "metadata": {},
     "output_type": "execute_result"
    },
    {
     "data": {
      "image/png": "[encoded data removed]",
      "text/plain": [
       "<Figure size 720x360 with 1 Axes>"
      ]
     },
     "metadata": {
      "needs_background": "light"
     },
     "output_type": "display_data"
    }
   ],
   "source": [
    "#gráfico dos dados obtidos para cada função\n",
    "\n",
    "plt.figure(figsize=(10,5))\n",
    "plt.loglog(n_array, t_dot, label='Função .dot')\n",
    "plt.loglog(n_array, t_func,label='Função criada')\n",
    "plt.loglog(n_array, t_mat, label='Função .matmul')\n",
    "\n",
    "plt.xlabel('n')\n",
    "plt.ylabel('Tempo')\n",
    "plt.legend()\n",
    "plt.grid()\n",
    "#plt.xlim(10,1000)\n",
    "plt.title('Tempo decorrido para processamento em função de n para cada método')\n"
   ]
  },
  {
   "cell_type": "markdown",
   "metadata": {},
   "source": [
    "A partir da análise feita é possível notar que a função .matmul propria do numpy é a mais eficiente de todas, uma vez que ela possui um tempo de resposta bem menor que as outras funções. "
   ]
  },
  {
   "cell_type": "markdown",
   "metadata": {},
   "source": [
    "OBS: Meu computador não suporta fazer n=10000"
   ]
  },
  {
   "cell_type": "code",
   "execution_count": null,
   "metadata": {},
   "outputs": [],
   "source": []
  }
 ],
 "metadata": {
  "kernelspec": {
   "display_name": "Python 3",
   "language": "python",
   "name": "python3"
  },
  "language_info": {
   "codemirror_mode": {
    "name": "ipython",
    "version": 3
   },
   "file_extension": ".py",
   "mimetype": "text/x-python",
   "name": "python",
   "nbconvert_exporter": "python",
   "pygments_lexer": "ipython3",
   "version": "3.5.2"
  }
 },
 "nbformat": 4,
 "nbformat_minor": 2
}
