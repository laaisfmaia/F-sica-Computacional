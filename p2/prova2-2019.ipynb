{
 "cells": [
  {
   "cell_type": "markdown",
   "metadata": {},
   "source": [
    "# Introdução à Programação em Física\n",
    "# Prova 2\n",
    "\n",
    "### Professor: Gustavo Guerrero"
   ]
  },
  {
   "cell_type": "markdown",
   "metadata": {},
   "source": [
    "### Alunos:\n",
    "1. \n",
    "2. \n",
    "\n",
    "Crie celulas abaixo de cada questão e responda sequencialmente. "
   ]
  },
  {
   "cell_type": "markdown",
   "metadata": {},
   "source": [
    "#### 1. Diferenciação numérica: crescimento da população, modelo logistico (25%)\n",
    "\n",
    "O modelo logístico do crescimento da população é derivado a partir de uma taxa de crescimento `não linear`. Seja $u$ uma determinada população (ex. formigas, abelhas, seres humanos),  o crescimento da mesma é governado pela seguinte equação:\n",
    "\n",
    "$$\n",
    "\\frac{du}{dt} = a(u) u\n",
    "$$\n",
    "\n",
    "Note que $a$ é uma função de $u$, daqui vem a não linearidade.  A escolha mais simples para $a$ tem a forma:\n",
    "\n",
    "$$\n",
    "a(u) = \\rho (1 - \\frac{u}{M})^P \\; ,\n",
    "$$\n",
    "\n",
    "Onde $P$ é um número real. A variável $M$ determina o máximo numero de habitantes que um determinado ambiente pode sustentar, $\\rho$ representa o crescimento da população com acesso ilimitado a recursos de supervivência (esse seria o caso quando a população $u$ é pequena).  Segundo a equação acima  $a(u) \\sim \\rho$ quando $u$ é pequeno, e $a(t) \\rightarrow 0$ quando $u \\rightarrow M $. \n",
    "\n",
    "Considere $\\rho = 1$, $M=1$, $P=1$ e uma população inicial $u_0 = 0.1$ indivíduos, formule e resolva a equação diferencial acima utilizando o método de diferenças finitas *forward*. O tempo inicial é $t=0$ e o final $t=10$. Utilize 32, 64 e 128 pontos temporais.  Compare suas respostas."
   ]
  },
  {
   "cell_type": "markdown",
   "metadata": {},
   "source": [
    "\n",
    "#### 2.  Integração numérica (25%)\n",
    "\n",
    "##### Integração adaptativa:\n",
    "\n",
    "Os métodos que aprendemos na sala de aula estão baseados num comprimento $dx$ fixo,  normalmente definido por quem faz a integração. Se escolhemos o passo muito pequeno, o resultado da integral pode ser impreciso. Por outro lado, se diminuímos $dx$ aumentando o numero de pontos a integrar, o calculo consume muito tempo e pode levar a erros de `roundoff`, como já vimos. \n",
    "\n",
    "Podemos criar um algoritmo adaptativo no qual o numero de pontos, e assim o valor de $dx$ é definido automaticamente quando nossa integral satisfaz certa tolerância (ex. $10^{-10}$). \n",
    "\n",
    "A ideia pode ser implementada seguindo os seguintes passos:\n",
    "\n",
    "a) Calculamos nossa primeira aproximação, calculando a integral, $I_T$ no domínio inteiro, $[a,b]$ e com um numero $n$, pequeno, ex. 8 pontos.\n",
    "\n",
    "b) Dividimos o intervalo de integração em dois, usando $c=(a+b)/2$. Então calculamos duas integrais, $I_{1L}$ desde $[a,c]$ com $n$ pontos, e $I_{1R}$ de $[c,b]$ com $n$ pontos. \n",
    "\n",
    "c) Estimamos se $| I_{1L}+I_{1R} - I_T | < {\\rm tolerância}$, se sim, a integração está pronta, se a condição não é satisfeita, dividimos novamente, podemos criar um processo recorrente onde a integral é novamente divida em sub-intervalos subsequentes até que a tolerância é atingida. \n",
    "\n",
    "É importante definir a tolerância e um número máximo de iterações. \n",
    "\n",
    "1. Implemente uma função que implemente esse método e que possa ser usada tanto com o método do trapecio quanto pelo método de Simpson.  Teste seu método calculando a integral de \n",
    "\n",
    "$$\n",
    "I = \\int^1_0 \\frac{4}{1+x^2}\n",
    "$$\n",
    "\n"
   ]
  },
  {
   "cell_type": "markdown",
   "metadata": {},
   "source": [
    "#### 3. Interpolação, splines cúbicos (25%)\n",
    "\n",
    "##### Aceleração de partículas\n",
    "\n",
    "A seção transversal, $g(E)$, do espalhamento resonante de neutrons que colidem com núcleos de átomos estão dados na tabela seguinte junto com a energia. \n",
    "\n",
    " E (MeV)   | g(E)\n",
    " ----|----\n",
    "   0 |10.6 \n",
    "  25 |16.0\n",
    "  50 |45.0\n",
    "  75 |83.5\n",
    "  100|52.8\n",
    "  125|19.9\n",
    "  150|10.8\n",
    "  175|8.25\n",
    "  200|4.7\n",
    "\n",
    "1) Usando interpolação numérica, método de `Lagrange`, calcule o valor da seção transversal para valores de energia que não são dados na tabela, com intervalos de energia de %5% MeV. A partir da curva obtida na interpolação, encontre a energia para a qual a seção de choque é máxima, $E_r$.   Estime também a [largura a média altura](https://pt.wikipedia.org/wiki/Largura_%C3%A0_meia_altura), $\\Gamma$.\n",
    "\n",
    "\n",
    "\n",
    "2) Realize a interpolação utilizando o método de `cubic splines`.  Estime novamente $E_r$ e $\\Gamma$.\n",
    "\n",
    "Nota: resultados teóricos mostram que ($E_r$, $\\Gamma$) = (78,55)."
   ]
  },
  {
   "cell_type": "markdown",
   "metadata": {},
   "source": [
    "#### 4. Regressão linear, mercado de ações (25%)\n",
    "\n",
    "No site https://finance.yahoo.com/ é possível descarregar dados históricos de ativos (`historical data`) que cotizam no mercado de ações.  Descarregue os dados de, por exemplo, a Petrobras (PETR4), ou a Vale (VALE5). Só um item é suficiente. \n",
    "\n",
    "(A tabela CSV tem colunas indicando o preço diário de apertura, o mais alto, o mais baixo,  os preços de fechamento e o volume de ações negociadas).\n",
    "\n",
    "a)  Leia os dados CSV utilizando pandas. Utilizando os mínimos quadrados faça um ajuste da curva de preços de fechamento dessas ações como função do tempo.  Considere os dados correspondentes a: os últimos 5 dias, o último més, os últimos seis meses. Estime os coeficientes do ajuste linear e o índice de correlação $R^2$ para cada intervalo de tempo. \n",
    "\n",
    "b) Para os trés intervalos de tempo, estime a previsão do valor dessa ação para a próxima sexta feira as 12h.\n",
    "\n",
    "**Bonnus (10%)**: *Será que é possível aprimorar essa previsão? Investigue sobre métodos de previsão do mercado acionário que estejam no seu nível de conhecimento de Python e seus módulos. Discuta brevemente e aplique ao item que foi estudado acima*. "
   ]
  },
  {
   "cell_type": "code",
   "execution_count": null,
   "metadata": {},
   "outputs": [],
   "source": []
  }
 ],
 "metadata": {
  "kernelspec": {
   "display_name": "Python 3",
   "language": "python",
   "name": "python3"
  },
  "language_info": {
   "codemirror_mode": {
    "name": "ipython",
    "version": 3
   },
   "file_extension": ".py",
   "mimetype": "text/x-python",
   "name": "python",
   "nbconvert_exporter": "python",
   "pygments_lexer": "ipython3",
   "version": "3.5.2"
  }
 },
 "nbformat": 4,
 "nbformat_minor": 2
}
