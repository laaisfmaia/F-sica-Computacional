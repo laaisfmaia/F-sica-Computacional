{
 "cells": [
  {
   "cell_type": "code",
   "execution_count": 1,
   "metadata": {},
   "outputs": [],
   "source": [
    "import numpy as np\n",
    "import matplotlib.pylab as plt\n",
    "from scipy.interpolate import interp1d\n",
    "%matplotlib inline"
   ]
  },
  {
   "cell_type": "code",
   "execution_count": 2,
   "metadata": {},
   "outputs": [],
   "source": [
    "interp1d?"
   ]
  },
  {
   "cell_type": "code",
   "execution_count": 117,
   "metadata": {},
   "outputs": [],
   "source": [
    "#definição dos pontos e da função f(x)\n",
    "x = np.linspace(0,10,8)\n",
    "y = np.cos(-x**2/9)\n",
    "\n",
    "#função interp1d já existente para interpolação com splines lineares\n",
    "f1 = interp1d(x,y, kind='linear')\n",
    "f2 = interp1d(x,y, kind='quadratic')\n",
    "f3 = interp1d(x,y, kind='cubic')"
   ]
  },
  {
   "cell_type": "code",
   "execution_count": 118,
   "metadata": {},
   "outputs": [
    {
     "data": {
      "text/plain": [
       "array([ 1.        ,  0.97440052,  0.61608828, -0.45290412, -0.88396283,\n",
       "        0.81720532, -0.30437638,  0.11527995])"
      ]
     },
     "execution_count": 118,
     "metadata": {},
     "output_type": "execute_result"
    }
   ],
   "source": [
    "y"
   ]
  },
  {
   "cell_type": "code",
   "execution_count": 53,
   "metadata": {},
   "outputs": [
    {
     "data": {
      "text/plain": [
       "<matplotlib.legend.Legend at 0x7fc41e815550>"
      ]
     },
     "execution_count": 53,
     "metadata": {},
     "output_type": "execute_result"
    },
    {
     "data": {
      "image/png": "[encoded data removed]",
      "text/plain": [
       "<Figure size 432x288 with 1 Axes>"
      ]
     },
     "metadata": {
      "needs_background": "light"
     },
     "output_type": "display_data"
    }
   ],
   "source": [
    "# vamos determinar valores de x no mesmo intervalo, porem em pontos intermediarios\n",
    "\n",
    "xnovo = np.linspace(0,10,64)\n",
    "\n",
    "# Agora podemos graficar\n",
    "plt.plot(x,y,'o', label='pontos')\n",
    "plt.plot(xnovo,f1(xnovo),label='linear',lw=3)\n",
    "plt.plot(xnovo, f2(xnovo), label='quadratic', lw=3)\n",
    "plt.plot(xnovo,f3(xnovo),label='cubic',lw=3)\n",
    "plt.legend(loc=3)"
   ]
  },
  {
   "cell_type": "code",
   "execution_count": 22,
   "metadata": {},
   "outputs": [],
   "source": [
    "from scipy import interpolate"
   ]
  },
  {
   "cell_type": "code",
   "execution_count": 23,
   "metadata": {},
   "outputs": [],
   "source": [
    "interpolate.splder?"
   ]
  },
  {
   "cell_type": "code",
   "execution_count": 132,
   "metadata": {},
   "outputs": [],
   "source": [
    "x = np.linspace(0,10,8)\n",
    "y = np.cos(-x**2/9)"
   ]
  },
  {
   "cell_type": "code",
   "execution_count": 136,
   "metadata": {},
   "outputs": [
    {
     "data": {
      "text/plain": [
       "(array([ 0.        ,  1.42857143,  2.85714286,  4.28571429,  5.71428571,\n",
       "         7.14285714,  8.57142857, 10.        ]),\n",
       " array([ 1.        ,  0.97440052,  0.61608828, -0.45290412, -0.88396283,\n",
       "         0.81720532, -0.30437638,  0.11527995]))"
      ]
     },
     "execution_count": 136,
     "metadata": {},
     "output_type": "execute_result"
    }
   ],
   "source": [
    "x,y"
   ]
  },
  {
   "cell_type": "code",
   "execution_count": 134,
   "metadata": {},
   "outputs": [
    {
     "data": {
      "text/plain": [
       "(array([ 0.        ,  0.        ,  0.        ,  0.        ,  2.85714286,\n",
       "         4.28571429,  5.71428571,  7.14285714, 10.        , 10.        ,\n",
       "        10.        , 10.        ]),\n",
       " array([ 1.        ,  0.94670078,  1.19615639, -0.46089608, -1.65573366,\n",
       "         2.92531621, -2.30453217,  0.11527995,  0.        ,  0.        ,\n",
       "         0.        ,  0.        ]),\n",
       " 3)"
      ]
     },
     "execution_count": 134,
     "metadata": {},
     "output_type": "execute_result"
    }
   ],
   "source": [
    "# A função splrep calcula a representação dos splines\n",
    "#a saida é uma tupla que tem (t,c,k), \n",
    "# t são so pontos, c são os coeficientes, e k a ordem\n",
    "# O parâmetro s especifica quanto a curva vai ser suavizada.\n",
    "\n",
    "tck= interpolate.splrep(x, y, s=0)\n",
    "tck"
   ]
  },
  {
   "cell_type": "code",
   "execution_count": 54,
   "metadata": {},
   "outputs": [],
   "source": [
    "# A função splev recebe como parâmetros os novos valores de x\n",
    "# uma tupla representando os splines, para o caso tck\n",
    "# der é a ordem da derivada quer ser produzida, \n",
    "# der=0: função\n",
    "# der=1: 1a derivada\n",
    "\n",
    "fsc = interpolate.splev(xnovo, tck, der=0)\n",
    "fscder1 = interpolate.splev(xnovo, tck, der=1)\n",
    "fscder2 = interpolate.splev(xnovo, tck, der=2)"
   ]
  },
  {
   "cell_type": "code",
   "execution_count": 55,
   "metadata": {},
   "outputs": [
    {
     "data": {
      "text/plain": [
       "<matplotlib.legend.Legend at 0x7fc41e7c29e8>"
      ]
     },
     "execution_count": 55,
     "metadata": {},
     "output_type": "execute_result"
    },
    {
     "data": {
      "image/png": "[encoded data removed]",
      "text/plain": [
       "<Figure size 432x288 with 1 Axes>"
      ]
     },
     "metadata": {
      "needs_background": "light"
     },
     "output_type": "display_data"
    }
   ],
   "source": [
    "# Agora podemos graficar\n",
    "plt.plot(x,y,'o', label='pontos')\n",
    "plt.plot(xnovo,fsc,label='cubic-splines',lw=2)\n",
    "plt.plot(xnovo,fscder1,label='1a derivada',lw=2)\n",
    "plt.plot(xnovo,fscder2,label='2a derivada',lw=2)\n",
    "plt.legend(loc=2,ncol=2)"
   ]
  },
  {
   "cell_type": "markdown",
   "metadata": {},
   "source": [
    "Vamos interpolar a função de Runge, $f(x) = \\frac{1}{1+25x^2}$, num conjunto de $n$ nós regularmente espaçados\n",
    "\n",
    "$$\n",
    "x_k = -1 + \\frac{2(k-1)}{n-1}, \\; \\; k = 1,2, \\ldots , n\n",
    "$$"
   ]
  },
  {
   "cell_type": "code",
   "execution_count": 239,
   "metadata": {},
   "outputs": [
    {
     "data": {
      "text/plain": [
       "([-1.0,\n",
       "  -0.6,\n",
       "  -0.19999999999999996,\n",
       "  0.19999999999999996,\n",
       "  0.6000000000000001,\n",
       "  1.0],\n",
       " [0.038461538461538464,\n",
       "  0.1,\n",
       "  0.5000000000000001,\n",
       "  0.5000000000000001,\n",
       "  0.09999999999999998,\n",
       "  0.038461538461538464])"
      ]
     },
     "execution_count": 239,
     "metadata": {},
     "output_type": "execute_result"
    }
   ],
   "source": [
    "#n = np.linspace(0,1,41)\n",
    "#tenho que transformar os valores de x em um array\n",
    "\n",
    "#para n=6\n",
    "n = 6\n",
    "dados =[]\n",
    "xk =[]\n",
    "yk =[]\n",
    "for k in range(1,n+1):\n",
    "    x = -1 + (2*(k-1))/(n-1)\n",
    "    xk.append((x))\n",
    "    y= 1/(1+25*x**2)\n",
    "    yk.append((y))\n",
    "    dados.append((x,y))\n",
    "\n",
    "#dados\n",
    "xk , yk"
   ]
  },
  {
   "cell_type": "code",
   "execution_count": 240,
   "metadata": {},
   "outputs": [
    {
     "data": {
      "text/plain": [
       "(array([-1. , -1. , -1. , -1. , -0.2,  0.2,  1. ,  1. ,  1. ,  1. ]),\n",
       " array([ 0.03846154, -0.23025641,  0.59128205,  0.59128205, -0.23025641,\n",
       "         0.03846154,  0.        ,  0.        ,  0.        ,  0.        ]),\n",
       " 3)"
      ]
     },
     "execution_count": 240,
     "metadata": {},
     "output_type": "execute_result"
    }
   ],
   "source": [
    "tck = interpolate.splrep(xk, yk, s=0)\n",
    "tck"
   ]
  },
  {
   "cell_type": "code",
   "execution_count": 241,
   "metadata": {},
   "outputs": [
    {
     "data": {
      "text/plain": [
       "Text(0.5, 1.0, 'Para n=6 usando splrep')"
      ]
     },
     "execution_count": 241,
     "metadata": {},
     "output_type": "execute_result"
    },
    {
     "data": {
      "image/png": "[encoded data removed]",
      "text/plain": [
       "<Figure size 432x288 with 1 Axes>"
      ]
     },
     "metadata": {
      "needs_background": "light"
     },
     "output_type": "display_data"
    }
   ],
   "source": [
    "ycs = interpolate.splev(xk, tck, der=0)\n",
    "\n",
    "# Agora podemos graficar\n",
    "plt.plot(xk,yk,'o', label='pontos')\n",
    "plt.plot(xk,ycs,label='cubic-splines',lw=2)\n",
    "plt.legend(loc=2)\n",
    "plt.title('Para n=6 usando splrep')"
   ]
  },
  {
   "cell_type": "code",
   "execution_count": 242,
   "metadata": {},
   "outputs": [
    {
     "data": {
      "text/plain": [
       "Text(0.5, 1.0, 'Para n=6 usando interp1d')"
      ]
     },
     "execution_count": 242,
     "metadata": {},
     "output_type": "execute_result"
    },
    {
     "data": {
      "image/png": "[encoded data removed]",
      "text/plain": [
       "<Figure size 432x288 with 1 Axes>"
      ]
     },
     "metadata": {
      "needs_background": "light"
     },
     "output_type": "display_data"
    }
   ],
   "source": [
    "f1= interp1d(xk, yk, kind='linear')\n",
    "f3 = interp1d(xk, yk, kind='cubic')\n",
    "\n",
    "plt.plot(xk,yk,'o', label='pontos')\n",
    "plt.plot(xk,f1(xk),label='linear',lw=3)\n",
    "plt.plot(xk,f3(xk),label='cubic',lw=3)\n",
    "plt.legend(loc=3)\n",
    "plt.title('Para n=6 usando interp1d')"
   ]
  },
  {
   "cell_type": "code",
   "execution_count": 246,
   "metadata": {},
   "outputs": [
    {
     "data": {
      "text/plain": [
       "Text(0.5, 1.0, 'Para n=8 usando splrep')"
      ]
     },
     "execution_count": 246,
     "metadata": {},
     "output_type": "execute_result"
    },
    {
     "data": {
      "image/png": "[encoded data removed]",
      "text/plain": [
       "<Figure size 432x288 with 1 Axes>"
      ]
     },
     "metadata": {
      "needs_background": "light"
     },
     "output_type": "display_data"
    }
   ],
   "source": [
    "#para n = 8\n",
    "n= 8\n",
    "dados =[]\n",
    "xk =[]\n",
    "yk =[]\n",
    "for k in range(1,n+1):\n",
    "    x = -1 + (2*(k-1))/(n-1)\n",
    "    xk.append((x))\n",
    "    y= 1/(1+25*x**2)\n",
    "    yk.append((y))\n",
    "    dados.append((x,y))\n",
    "    \n",
    "tck = interpolate.splrep(xk, yk, s=0)\n",
    "\n",
    "ycs = interpolate.splev(xk, tck, der=0)\n",
    "\n",
    "# Agora podemos graficar\n",
    "plt.plot(xk,yk,'o', label='pontos')\n",
    "plt.plot(xk,ycs,label='cubic-splines',lw=2)\n",
    "plt.legend(loc=2)\n",
    "plt.title('Para n=8 usando splrep')"
   ]
  },
  {
   "cell_type": "code",
   "execution_count": 247,
   "metadata": {},
   "outputs": [
    {
     "data": {
      "text/plain": [
       "Text(0.5, 1.0, 'Para n=41 usando splrep')"
      ]
     },
     "execution_count": 247,
     "metadata": {},
     "output_type": "execute_result"
    },
    {
     "data": {
      "image/png": "[encoded data removed]",
      "text/plain": [
       "<Figure size 432x288 with 1 Axes>"
      ]
     },
     "metadata": {
      "needs_background": "light"
     },
     "output_type": "display_data"
    }
   ],
   "source": [
    "#para n = 41\n",
    "n = 41\n",
    "dados =[]\n",
    "xk =[]\n",
    "yk =[]\n",
    "for k in range(1,n+1):\n",
    "    x = -1 + (2*(k-1))/(n-1)\n",
    "    xk.append((x))\n",
    "    y= 1/(1+25*x**2)\n",
    "    yk.append((y))\n",
    "    dados.append((x,y))\n",
    "    \n",
    "tck = interpolate.splrep(xk, yk, s=0)\n",
    "\n",
    "ycs = interpolate.splev(xk, tck, der=0)\n",
    "\n",
    "# Agora podemos graficar\n",
    "plt.plot(xk,yk,'o', label='pontos')\n",
    "plt.plot(xk,ycs,label='cubic-splines',lw=2)\n",
    "plt.legend(loc=2)\n",
    "plt.title('Para n=41 usando splrep')"
   ]
  },
  {
   "cell_type": "code",
   "execution_count": null,
   "metadata": {},
   "outputs": [],
   "source": []
  },
  {
   "cell_type": "code",
   "execution_count": null,
   "metadata": {},
   "outputs": [],
   "source": []
  },
  {
   "cell_type": "code",
   "execution_count": null,
   "metadata": {},
   "outputs": [],
   "source": []
  },
  {
   "cell_type": "code",
   "execution_count": null,
   "metadata": {},
   "outputs": [],
   "source": []
  },
  {
   "cell_type": "code",
   "execution_count": null,
   "metadata": {},
   "outputs": [],
   "source": []
  },
  {
   "cell_type": "code",
   "execution_count": null,
   "metadata": {},
   "outputs": [],
   "source": []
  },
  {
   "cell_type": "code",
   "execution_count": null,
   "metadata": {},
   "outputs": [],
   "source": []
  },
  {
   "cell_type": "code",
   "execution_count": null,
   "metadata": {},
   "outputs": [],
   "source": []
  },
  {
   "cell_type": "code",
   "execution_count": null,
   "metadata": {},
   "outputs": [],
   "source": []
  },
  {
   "cell_type": "code",
   "execution_count": null,
   "metadata": {},
   "outputs": [],
   "source": []
  },
  {
   "cell_type": "code",
   "execution_count": 243,
   "metadata": {},
   "outputs": [
    {
     "data": {
      "text/plain": [
       "'for k in range(1,n+1):\\n    for i in range(1,k):\\n        x[i] = '"
      ]
     },
     "execution_count": 243,
     "metadata": {},
     "output_type": "execute_result"
    }
   ],
   "source": [
    "\"\"\"for k in range(1,n+1):\n",
    "    for i in range(1,k):\n",
    "        x[i] = \"\"\""
   ]
  },
  {
   "cell_type": "code",
   "execution_count": 244,
   "metadata": {},
   "outputs": [
    {
     "data": {
      "text/plain": [
       "'n = 6\\nxk = []\\nfor k in range(1,n+1):\\n    x = [-1 + 2*(k-1)/n-1]\\n    xk.append((k,x))\\n    print(x)\\n    \\ny= 1/(1+25*xk**2)\\n    '"
      ]
     },
     "execution_count": 244,
     "metadata": {},
     "output_type": "execute_result"
    }
   ],
   "source": [
    "\"\"\"n = 6\n",
    "xk = []\n",
    "for k in range(1,n+1):\n",
    "    x = [-1 + 2*(k-1)/n-1]\n",
    "    xk.append((k,x))\n",
    "    print(x)\n",
    "    \n",
    "y= 1/(1+25*xk**2)\n",
    "    \"\"\""
   ]
  },
  {
   "cell_type": "code",
   "execution_count": 205,
   "metadata": {},
   "outputs": [
    {
     "ename": "TypeError",
     "evalue": "__init__() missing 1 required positional argument: 'y'",
     "output_type": "error",
     "traceback": [
      "\u001b[0;31m---------------------------------------------------------------------------\u001b[0m",
      "\u001b[0;31mTypeError\u001b[0m                                 Traceback (most recent call last)",
      "\u001b[0;32m<ipython-input-205-2d8630e47e1a>\u001b[0m in \u001b[0;36m<module>\u001b[0;34m\u001b[0m\n\u001b[1;32m      2\u001b[0m \u001b[0mx\u001b[0m \u001b[0;34m=\u001b[0m \u001b[0mnp\u001b[0m\u001b[0;34m.\u001b[0m\u001b[0mlinspace\u001b[0m\u001b[0;34m(\u001b[0m\u001b[0;36m1\u001b[0m\u001b[0;34m,\u001b[0m\u001b[0;36m10\u001b[0m\u001b[0;34m,\u001b[0m\u001b[0mn\u001b[0m\u001b[0;34m)\u001b[0m\u001b[0;34m\u001b[0m\u001b[0m\n\u001b[1;32m      3\u001b[0m \u001b[0my\u001b[0m \u001b[0;34m=\u001b[0m \u001b[0;36m1\u001b[0m\u001b[0;34m/\u001b[0m\u001b[0;34m(\u001b[0m\u001b[0;36m1\u001b[0m\u001b[0;34m+\u001b[0m\u001b[0;36m25\u001b[0m\u001b[0;34m*\u001b[0m\u001b[0mx\u001b[0m\u001b[0;34m**\u001b[0m\u001b[0;36m2\u001b[0m\u001b[0;34m)\u001b[0m\u001b[0;34m\u001b[0m\u001b[0m\n\u001b[0;32m----> 4\u001b[0;31m \u001b[0mf3\u001b[0m \u001b[0;34m=\u001b[0m \u001b[0minterp1d\u001b[0m\u001b[0;34m(\u001b[0m\u001b[0mdados\u001b[0m\u001b[0;34m,\u001b[0m \u001b[0mkind\u001b[0m\u001b[0;34m=\u001b[0m\u001b[0;34m'cubic'\u001b[0m\u001b[0;34m)\u001b[0m\u001b[0;34m\u001b[0m\u001b[0m\n\u001b[0m\u001b[1;32m      5\u001b[0m \u001b[0;34m\u001b[0m\u001b[0m\n\u001b[1;32m      6\u001b[0m \u001b[0mplt\u001b[0m\u001b[0;34m.\u001b[0m\u001b[0mplot\u001b[0m\u001b[0;34m(\u001b[0m\u001b[0mdados\u001b[0m\u001b[0;34m,\u001b[0m\u001b[0;34m'o'\u001b[0m\u001b[0;34m,\u001b[0m \u001b[0mlabel\u001b[0m\u001b[0;34m=\u001b[0m\u001b[0;34m'pontos'\u001b[0m\u001b[0;34m)\u001b[0m\u001b[0;34m\u001b[0m\u001b[0m\n",
      "\u001b[0;31mTypeError\u001b[0m: __init__() missing 1 required positional argument: 'y'"
     ]
    }
   ],
   "source": [
    "n=41\n",
    "x = np.linspace(1,10,n)\n",
    "y = 1/(1+25*x**2)\n",
    "f3 = interp1d(x,y kind='cubic')\n",
    "\n",
    "plt.plot(dados,'o', label='pontos')\n",
    "plt.plot(x,f3(x),label='cubic',lw=3)\n",
    "plt.legend(loc=3)\n"
   ]
  },
  {
   "cell_type": "code",
   "execution_count": 142,
   "metadata": {},
   "outputs": [
    {
     "data": {
      "text/plain": [
       "(array([ 1.   ,  1.   ,  1.   ,  1.   ,  1.45 ,  1.675,  1.9  ,  2.125,\n",
       "         2.35 ,  2.575,  2.8  ,  3.025,  3.25 ,  3.475,  3.7  ,  3.925,\n",
       "         4.15 ,  4.375,  4.6  ,  4.825,  5.05 ,  5.275,  5.5  ,  5.725,\n",
       "         5.95 ,  6.175,  6.4  ,  6.625,  6.85 ,  7.075,  7.3  ,  7.525,\n",
       "         7.75 ,  7.975,  8.2  ,  8.425,  8.65 ,  8.875,  9.1  ,  9.325,\n",
       "         9.55 , 10.   , 10.   , 10.   , 10.   ]),\n",
       " array([0.03846154, 0.02776108, 0.01976613, 0.01381209, 0.01081403,\n",
       "        0.00868521, 0.00712726, 0.00595182, 0.0050441 , 0.00432864,\n",
       "        0.00375491, 0.00328788, 0.00290269, 0.00258132, 0.00231042,\n",
       "        0.00207997, 0.00188232, 0.00171152, 0.00156293, 0.00143287,\n",
       "        0.00131837, 0.00121706, 0.00112698, 0.00104654, 0.00097441,\n",
       "        0.00090948, 0.00085083, 0.00079767, 0.00074934, 0.00070527,\n",
       "        0.00066497, 0.00062803, 0.00059408, 0.00056282, 0.00053395,\n",
       "        0.00050725, 0.00048251, 0.00045953, 0.00043102, 0.00041183,\n",
       "        0.00039984, 0.        , 0.        , 0.        , 0.        ]),\n",
       " 3)"
      ]
     },
     "execution_count": 142,
     "metadata": {},
     "output_type": "execute_result"
    }
   ],
   "source": [
    "tck = interpolate.splrep(x, y, s=0)\n",
    "tck"
   ]
  },
  {
   "cell_type": "code",
   "execution_count": null,
   "metadata": {},
   "outputs": [],
   "source": []
  },
  {
   "cell_type": "code",
   "execution_count": null,
   "metadata": {},
   "outputs": [],
   "source": []
  },
  {
   "cell_type": "code",
   "execution_count": null,
   "metadata": {},
   "outputs": [],
   "source": []
  },
  {
   "cell_type": "code",
   "execution_count": null,
   "metadata": {},
   "outputs": [],
   "source": []
  },
  {
   "cell_type": "code",
   "execution_count": null,
   "metadata": {},
   "outputs": [],
   "source": []
  },
  {
   "cell_type": "code",
   "execution_count": null,
   "metadata": {},
   "outputs": [],
   "source": []
  },
  {
   "cell_type": "code",
   "execution_count": null,
   "metadata": {},
   "outputs": [],
   "source": []
  },
  {
   "cell_type": "markdown",
   "metadata": {},
   "source": [
    "1. Considere $n = 5, 11, 21, 30$ e calcule os polinomios de intepolação de Lagrange $P_N (x)$ para 41 pontos regularmente espaçados.\n"
   ]
  },
  {
   "cell_type": "code",
   "execution_count": null,
   "metadata": {},
   "outputs": [],
   "source": []
  },
  {
   "cell_type": "code",
   "execution_count": null,
   "metadata": {},
   "outputs": [],
   "source": []
  },
  {
   "cell_type": "code",
   "execution_count": null,
   "metadata": {},
   "outputs": [],
   "source": []
  },
  {
   "cell_type": "code",
   "execution_count": null,
   "metadata": {},
   "outputs": [],
   "source": []
  },
  {
   "cell_type": "code",
   "execution_count": 66,
   "metadata": {},
   "outputs": [
    {
     "ename": "NameError",
     "evalue": "name 'Pn' is not defined",
     "output_type": "error",
     "traceback": [
      "\u001b[0;31m---------------------------------------------------------------------------\u001b[0m",
      "\u001b[0;31mNameError\u001b[0m                                 Traceback (most recent call last)",
      "\u001b[0;32m<ipython-input-66-1ca8f8042100>\u001b[0m in \u001b[0;36m<module>\u001b[0;34m\u001b[0m\n\u001b[0;32m----> 1\u001b[0;31m \u001b[0merro\u001b[0m \u001b[0;34m=\u001b[0m \u001b[0;34m(\u001b[0m\u001b[0my\u001b[0m\u001b[0;34m-\u001b[0m\u001b[0mPn\u001b[0m\u001b[0;34m)\u001b[0m\u001b[0;34m/\u001b[0m\u001b[0my\u001b[0m\u001b[0;34m\u001b[0m\u001b[0m\n\u001b[0m",
      "\u001b[0;31mNameError\u001b[0m: name 'Pn' is not defined"
     ]
    }
   ],
   "source": [
    "erro1 = (y-Pn)/y\n",
    "\n",
    "erro2 = (y-S)/y"
   ]
  },
  {
   "cell_type": "code",
   "execution_count": null,
   "metadata": {},
   "outputs": [],
   "source": []
  }
 ],
 "metadata": {
  "kernelspec": {
   "display_name": "Python 3",
   "language": "python",
   "name": "python3"
  },
  "language_info": {
   "codemirror_mode": {
    "name": "ipython",
    "version": 3
   },
   "file_extension": ".py",
   "mimetype": "text/x-python",
   "name": "python",
   "nbconvert_exporter": "python",
   "pygments_lexer": "ipython3",
   "version": "3.5.2"
  }
 },
 "nbformat": 4,
 "nbformat_minor": 2
}
