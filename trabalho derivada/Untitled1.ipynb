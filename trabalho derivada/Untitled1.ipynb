{
 "cells": [
  {
   "cell_type": "code",
   "execution_count": 1,
   "metadata": {},
   "outputs": [],
   "source": [
    "import numpy as np\n",
    "import matplotlib.pyplot as plt\n",
    "%matplotlib inline"
   ]
  },
  {
   "cell_type": "code",
   "execution_count": 2,
   "metadata": {},
   "outputs": [
    {
     "ename": "NameError",
     "evalue": "name 'x' is not defined",
     "output_type": "error",
     "traceback": [
      "\u001b[0;31m---------------------------------------------------------------------------\u001b[0m",
      "\u001b[0;31mNameError\u001b[0m                                 Traceback (most recent call last)",
      "\u001b[0;32m<ipython-input-2-fd47eab26e91>\u001b[0m in \u001b[0;36m<module>\u001b[0;34m\u001b[0m\n\u001b[1;32m     43\u001b[0m \u001b[0;31m#print(\"Erro relativo na aproximação: \", erro_relativo(D2f(f, 2), df1(2)))\u001b[0m\u001b[0;34m\u001b[0m\u001b[0;34m\u001b[0m\u001b[0m\n\u001b[1;32m     44\u001b[0m \u001b[0;34m\u001b[0m\u001b[0m\n\u001b[0;32m---> 45\u001b[0;31m \u001b[0mfunc\u001b[0m \u001b[0;34m=\u001b[0m \u001b[0mf\u001b[0m\u001b[0;34m(\u001b[0m\u001b[0mx\u001b[0m\u001b[0;34m)\u001b[0m\u001b[0;34m\u001b[0m\u001b[0m\n\u001b[0m\u001b[1;32m     46\u001b[0m \u001b[0mlog1\u001b[0m \u001b[0;34m=\u001b[0m \u001b[0merro_relativo\u001b[0m\u001b[0;34m(\u001b[0m\u001b[0mnp\u001b[0m\u001b[0;34m.\u001b[0m\u001b[0mexp\u001b[0m\u001b[0;34m(\u001b[0m\u001b[0mx\u001b[0m\u001b[0;34m)\u001b[0m\u001b[0;34m,\u001b[0m\u001b[0mD2f\u001b[0m\u001b[0;34m(\u001b[0m\u001b[0mf\u001b[0m\u001b[0;34m,\u001b[0m\u001b[0mx\u001b[0m\u001b[0;34m)\u001b[0m\u001b[0;34m)\u001b[0m\u001b[0;34m\u001b[0m\u001b[0m\n\u001b[1;32m     47\u001b[0m \u001b[0;34m\u001b[0m\u001b[0m\n",
      "\u001b[0;31mNameError\u001b[0m: name 'x' is not defined"
     ]
    }
   ],
   "source": [
    "def f(x):\n",
    "    return np.exp(x)\n",
    "\n",
    "def df1(x):\n",
    "    return np.exp(x)\n",
    "\n",
    "def df2(x):\n",
    "    return np.exp(x)\n",
    "\n",
    "\n",
    "# primeira derivada, DFC\n",
    "def Df(f,x):\n",
    "    dx = x[1]-x[0]\n",
    "    xp = x+dx\n",
    "    xm = x-dx\n",
    "    Df = (f(xp)-f(xm))/(2*dx)\n",
    "    return Df\n",
    "\n",
    "# segunda derivada, DFC\n",
    "def D2f(f,x):\n",
    "    dx = x[1]-x[0]\n",
    "    xp = x+dx\n",
    "    xm = x-dx\n",
    "    D2f = (f(xp)-2.*f(x) + f(xm))/(dx*dx)\n",
    "    return D2f\n",
    "\n",
    "def erro_relativo(calculado,exato):\n",
    "    erro_relativo = (np.abs(calculado - exato))/(np.abs(exato))\n",
    "    log_erro = np.log(erro_relativo)\n",
    "    return log_erro\n",
    "\n",
    "def variação_x(dx): \n",
    "    listaDeMaioresValores = []\n",
    "    for i in range(2, 21):\n",
    "        x = np.linspace(0,10,2**i)\n",
    "    dx = x[1]-x[0]\n",
    "    tamanhoX = len(x)\n",
    "    ultimoValorX = x[tamanhoX - 1]\n",
    "    listaDeMaioresValores.append(ultimoValorXm)\n",
    "    \n",
    "   \n",
    "#print(\"Valor exato da derivada: \", df1(2), \" - valor da aproximação: \", Df(f, 2))\n",
    "#print(\"Erro relativo na aproximação: \", erro_relativo(D2f(f, 2), df1(2)))\n",
    "\n",
    "func = f(x)\n",
    "log1 = erro_relativo(np.exp(x),D2f(f,x))\n",
    "\n",
    "plt.subplot(2,1,1)\n",
    "plt.plot(x,func)\n",
    "plt.plot(x,Df(f,x),'o')\n",
    "plt.plot(x,D2f(f,x),'--')\n",
    "\n",
    "plt.subplot(2,1,2)\n",
    "plt.plot(log1)"
   ]
  },
  {
   "cell_type": "code",
   "execution_count": null,
   "metadata": {},
   "outputs": [],
   "source": []
  }
 ],
 "metadata": {
  "kernelspec": {
   "display_name": "Python 3",
   "language": "python",
   "name": "python3"
  },
  "language_info": {
   "codemirror_mode": {
    "name": "ipython",
    "version": 3
   },
   "file_extension": ".py",
   "mimetype": "text/x-python",
   "name": "python",
   "nbconvert_exporter": "python",
   "pygments_lexer": "ipython3",
   "version": "3.5.2"
  }
 },
 "nbformat": 4,
 "nbformat_minor": 2
}
