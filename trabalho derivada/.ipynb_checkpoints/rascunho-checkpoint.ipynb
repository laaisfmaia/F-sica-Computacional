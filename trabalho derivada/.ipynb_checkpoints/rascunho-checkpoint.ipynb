{
 "cells": [
  {
   "cell_type": "code",
   "execution_count": 1,
   "metadata": {},
   "outputs": [],
   "source": [
    "import numpy as np\n",
    "import matplotlib.pyplot as plt\n",
    "%matplotlib inline"
   ]
  },
  {
   "cell_type": "code",
   "execution_count": null,
   "metadata": {},
   "outputs": [],
   "source": [
    "# Calcula uma aproximação de derivada de f no ponto x usando a fórmula de diferença.\n",
    "function dif(f, x, h=sqrt(eps(1.0)))\n",
    "return (f(x + h) - f(x)) ./ h\n",
    "end\n",
    "# Função para teste e sua derivada.\n",
    "f(x) = sin(x) + cos(x)\n",
    "df(x) = cos(x) - sin(x)\n",
    "# Função simples para calcular o erro relativo entre a aproximação e o valor exata\n",
    "function erro_rel(aprox, exato)\n",
    "return abs(aprox - exato) ./ abs(exato)\n",
    "end\n",
    "# Teste da aproximação\n",
    "println(\"Valor exato da derivada: \", df(1), \" - valor da aproximação: \", dif(f, 1))\n",
    "println(\"Erro relativo na aproximação: \", erro_rel(dif(f, 1), df(1)))"
   ]
  },
  {
   "cell_type": "code",
   "execution_count": 34,
   "metadata": {},
   "outputs": [
    {
     "ename": "NameError",
     "evalue": "name 'l' is not defined",
     "output_type": "error",
     "traceback": [
      "\u001b[0;31m---------------------------------------------------------------------------\u001b[0m",
      "\u001b[0;31mNameError\u001b[0m                                 Traceback (most recent call last)",
      "\u001b[0;32m<ipython-input-34-d23511a5adec>\u001b[0m in \u001b[0;36m<module>\u001b[0;34m\u001b[0m\n\u001b[1;32m     58\u001b[0m \u001b[0mplt\u001b[0m\u001b[0;34m.\u001b[0m\u001b[0mplot\u001b[0m\u001b[0;34m(\u001b[0m\u001b[0mxm\u001b[0m\u001b[0;34m,\u001b[0m\u001b[0mlog1\u001b[0m\u001b[0;34m)\u001b[0m\u001b[0;34m\u001b[0m\u001b[0m\n\u001b[1;32m     59\u001b[0m \"\"\"\n\u001b[0;32m---> 60\u001b[0;31m \u001b[0mprint\u001b[0m\u001b[0;34m(\u001b[0m\u001b[0ml\u001b[0m\u001b[0;34m)\u001b[0m\u001b[0;34m\u001b[0m\u001b[0m\n\u001b[0m",
      "\u001b[0;31mNameError\u001b[0m: name 'l' is not defined"
     ]
    }
   ],
   "source": [
    "def f(x):\n",
    "    return np.exp(x)\n",
    "\n",
    "def df1(x):\n",
    "    return np.exp(x)\n",
    "\n",
    "def df2(x):\n",
    "    return np.exp(x)\n",
    "\n",
    "\n",
    "# primeira derivada, DFC\n",
    "def Df(f,x):\n",
    "    dx = x[1]-x[0]\n",
    "    xp = x+dx\n",
    "    xm = x-dx\n",
    "    Df = (f(xp)-f(xm))/(2*dx)\n",
    "    return Df\n",
    "\n",
    "# segunda derivada, DFC\n",
    "def D2f(f,x):\n",
    "    dx = x[1]-x[0]\n",
    "    xp = x+dx\n",
    "    xm = x-dx\n",
    "    D2f = (f(xp)-2.*f(x) + f(xm))/(dx*dx)\n",
    "    return D2f\n",
    "\n",
    "def erro_relativo(calculado,exato):\n",
    "    erro_relativo = (np.abs(calculado - exato))/(np.abs(exato))\n",
    "    log_erro = np.log(erro_relativo)\n",
    "    return log_erro\n",
    "\n",
    "def xm(xm):\n",
    "    listaDeMaioresValores = []\n",
    "    for i in range(2, 21):\n",
    "        xm = np.linspace(0,10,2**i)\n",
    "        tamanhoXm = len(xm)\n",
    "        ultimoValorXm = xm[tamanhoXm - 1]\n",
    "        l = listaDeMaioresValores.append(ultimoValorXm)\n",
    "    \n",
    "    \n",
    "   \n",
    "    \n",
    "    \n",
    "    \n",
    "#print(\"Valor exato da derivada: \", df1(2), \" - valor da aproximação: \", Df(f, 2))\n",
    "#print(\"Erro relativo na aproximação: \", erro_relativo(D2f(f, 2), df1(2)))\n",
    "\n",
    "n = 64\n",
    "x = np.linspace(0.,10.,n)\n",
    "a1 = f(x)\n",
    "log1 = erro_relativo(np.exp(x),D2f(f,x))\n",
    "\n",
    "plt.subplot(2,1,1)\n",
    "plt.plot(x,a1)\n",
    "plt.plot(x,Df(f,x),'o')\n",
    "plt.plot(x,D2f(f,x),'--')\n",
    "\n",
    "plt.subplot(2,1,2)\n",
    "plt.plot(xm,log1)"
   ]
  },
  {
   "cell_type": "code",
   "execution_count": 17,
   "metadata": {},
   "outputs": [
    {
     "name": "stdout",
     "output_type": "stream",
     "text": [
      "[10.0, 10.0, 10.0, 10.0, 10.0, 10.0, 10.0, 10.0, 10.0, 10.0, 10.0, 10.0, 10.0, 10.0, 10.0, 10.0, 10.0, 10.0, 10.0]\n"
     ]
    }
   ],
   "source": [
    "# declaro uma array vazia\n",
    "listaDeMaioresValores = []\n",
    "\n",
    "# com o range(2, 21) faço uma lista de 2 a 21\n",
    "# só pro FOR rodar 20 vezes em cima de uma lista com\n",
    "# os valores assim: [2, ..., 20].\n",
    "for i in range(2, 21):\n",
    "    # A linha debaixo mostra que o i varia de 2 a 20. Descomenta pra ver.\n",
    "    # print(\"Valor de i é igual a: \", i)\n",
    "    \n",
    "    # Agora vou SUPOR que o xm é uma lista(array) \n",
    "    # que o menino falou que retorna.\n",
    "    # Para cada vez que você rodar,\n",
    "    # iremos ter uma lista armazenada na variavel xm \n",
    "    xm = np.linspace(0,10,2**i)\n",
    "    \n",
    "    # Agora, como não sei o tamanho do linspace, \n",
    "    # preciso verificar o tamanho dele \n",
    "    # para então saber \"o último valor\" da lista\n",
    "    tamanhoXm = len(xm)\n",
    "    \n",
    "    # O tamanho da lista ex = [4, 5, 6] é 3, mas para pegar o valor de 6\n",
    "    # preciso pegar o tamanho da lista -1, porque começa de 0.\n",
    "    # No meu exemplo ex[2] = 6\n",
    "    ultimoValorXm = xm[tamanhoXm - 1]\n",
    "    \n",
    "    # Vou adicionar este valor que eu encontrei na lista\n",
    "    # que criei lá em cima\n",
    "    listaDeMaioresValores.append(ultimoValorXm)\n",
    "    \n",
    "    \n",
    "\n",
    "# Ao final do loop você vai ter uma lista\n",
    "# com os ultimos valores da\n",
    "# segunda derivada.\n",
    "print(listaDeMaioresValores)"
   ]
  },
  {
   "cell_type": "code",
   "execution_count": null,
   "metadata": {},
   "outputs": [],
   "source": []
  }
 ],
 "metadata": {
  "kernelspec": {
   "display_name": "Python 3",
   "language": "python",
   "name": "python3"
  },
  "language_info": {
   "codemirror_mode": {
    "name": "ipython",
    "version": 3
   },
   "file_extension": ".py",
   "mimetype": "text/x-python",
   "name": "python",
   "nbconvert_exporter": "python",
   "pygments_lexer": "ipython3",
   "version": "3.5.2"
  }
 },
 "nbformat": 4,
 "nbformat_minor": 2
}
