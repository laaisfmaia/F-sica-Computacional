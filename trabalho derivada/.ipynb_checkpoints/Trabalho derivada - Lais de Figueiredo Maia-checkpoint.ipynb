{
 "cells": [
  {
   "cell_type": "markdown",
   "metadata": {},
   "source": [
    "Nome: Lais de Figueiredo Maia ; 2016034704"
   ]
  },
  {
   "cell_type": "code",
   "execution_count": 3,
   "metadata": {},
   "outputs": [],
   "source": [
    "import numpy as np\n",
    "import matplotlib.pyplot as plt\n",
    "%matplotlib inline"
   ]
  },
  {
   "cell_type": "code",
   "execution_count": 4,
   "metadata": {},
   "outputs": [
    {
     "data": {
      "text/plain": [
       "[<matplotlib.lines.Line2D at 0x7f806b434518>]"
      ]
     },
     "execution_count": 4,
     "metadata": {},
     "output_type": "execute_result"
    },
    {
     "data": {
      "image/png": "[encoded data removed]",
      "text/plain": [
       "<Figure size 432x288 with 1 Axes>"
      ]
     },
     "metadata": {
      "needs_background": "light"
     },
     "output_type": "display_data"
    }
   ],
   "source": [
    "# PROGRAMA PARA CALCULAR PRIMEIRA E SEGUNDA DERIVADA DA \n",
    "# FUNCAO ARBITRARIA f(x)\n",
    "\n",
    "def f(x):\n",
    "    return np.exp(x)\n",
    "\n",
    "# primeira derivada, DFC\n",
    "def Df(f,x):\n",
    "    dx = x[1]-x[0]\n",
    "    xp = x+dx\n",
    "    xm = x-dx\n",
    "    return (f(xp)-f(xm))/(2*dx)\n",
    "\n",
    "# segunda derivada, DFC\n",
    "def D2f(f,x):\n",
    "    dx = x[1]-x[0]\n",
    "    xp = x+dx\n",
    "    xm = x-dx\n",
    "    return (f(xp)-2.*f(x) + f(xm))/(dx*dx)\n",
    "\n",
    "n = 64\n",
    "x = np.linspace(0.,10.,n)\n",
    "a = f(x)\n",
    "plt.plot(x,a)\n",
    "plt.plot(x,Df(f,x),'o')\n",
    "plt.plot(x,D2f(f,x),'--')"
   ]
  },
  {
   "cell_type": "code",
   "execution_count": null,
   "metadata": {},
   "outputs": [],
   "source": []
  }
 ],
 "metadata": {
  "kernelspec": {
   "display_name": "Python 3",
   "language": "python",
   "name": "python3"
  },
  "language_info": {
   "codemirror_mode": {
    "name": "ipython",
    "version": 3
   },
   "file_extension": ".py",
   "mimetype": "text/x-python",
   "name": "python",
   "nbconvert_exporter": "python",
   "pygments_lexer": "ipython3",
   "version": "3.5.2"
  }
 },
 "nbformat": 4,
 "nbformat_minor": 2
}
