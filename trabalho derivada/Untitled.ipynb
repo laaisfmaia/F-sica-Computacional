{
 "cells": [
  {
   "cell_type": "code",
   "execution_count": 2,
   "metadata": {},
   "outputs": [],
   "source": [
    "import numpy as np\n",
    "import matplotlib.pyplot as plt\n",
    "%matplotlib inline"
   ]
  },
  {
   "cell_type": "code",
   "execution_count": 7,
   "metadata": {},
   "outputs": [
    {
     "ename": "NameError",
     "evalue": "name 'x' is not defined",
     "output_type": "error",
     "traceback": [
      "\u001b[0;31m---------------------------------------------------------------------------\u001b[0m",
      "\u001b[0;31mNameError\u001b[0m                                 Traceback (most recent call last)",
      "\u001b[0;32m<ipython-input-7-4b1ea5c889cf>\u001b[0m in \u001b[0;36m<module>\u001b[0;34m\u001b[0m\n\u001b[1;32m     42\u001b[0m \u001b[0;34m\u001b[0m\u001b[0m\n\u001b[1;32m     43\u001b[0m \u001b[0;34m\u001b[0m\u001b[0m\n\u001b[0;32m---> 44\u001b[0;31m \u001b[0mfunc\u001b[0m \u001b[0;34m=\u001b[0m \u001b[0mf\u001b[0m\u001b[0;34m(\u001b[0m\u001b[0mx\u001b[0m\u001b[0;34m)\u001b[0m\u001b[0;34m\u001b[0m\u001b[0m\n\u001b[0m\u001b[1;32m     45\u001b[0m \u001b[0mlog_erro\u001b[0m \u001b[0;34m=\u001b[0m \u001b[0merro_relativo\u001b[0m\u001b[0;34m(\u001b[0m\u001b[0mD2f\u001b[0m\u001b[0;34m(\u001b[0m\u001b[0mf\u001b[0m\u001b[0;34m,\u001b[0m\u001b[0mx\u001b[0m\u001b[0;34m)\u001b[0m\u001b[0;34m,\u001b[0m\u001b[0mnp\u001b[0m\u001b[0;34m.\u001b[0m\u001b[0mexp\u001b[0m\u001b[0;34m(\u001b[0m\u001b[0mx\u001b[0m\u001b[0;34m)\u001b[0m\u001b[0;34m)\u001b[0m\u001b[0;34m\u001b[0m\u001b[0m\n\u001b[1;32m     46\u001b[0m \u001b[0;34m\u001b[0m\u001b[0m\n",
      "\u001b[0;31mNameError\u001b[0m: name 'x' is not defined"
     ]
    }
   ],
   "source": [
    "# valor exato de f(x)\n",
    "def f(x):\n",
    "    return np.exp(x)\n",
    "\n",
    "# valor exato de f'(x)\n",
    "def df1(x):\n",
    "    return np.exp(x)\n",
    "\n",
    "# valor exato de f\"(x)\n",
    "def df2(x):\n",
    "    return np.exp(x)\n",
    "\n",
    "def Df(f,x):\n",
    "    dx = x[1]-x[0]\n",
    "    xp = x+dx\n",
    "    xm = x-dx\n",
    "    return (f(xp)-f(xm))/(2*dx)\n",
    "\n",
    "# função que retorna a segunda derivada, DFC\n",
    "def D2f(f,x):\n",
    "    dx = x[1]-x[0]\n",
    "    xp = x+dx\n",
    "    xm = x-dx\n",
    "    return (f(xp)-2.*f(x) + f(xm))/(dx*dx)\n",
    "\n",
    "# função erro que retorna o logaritmo desse erro\n",
    "def erro_relativo(calculado,exato):\n",
    "    erro_relativo = (np.abs(calculado - exato))/(np.abs(exato))\n",
    "    log_erro = np.log(erro_relativo)\n",
    "    return log_erro\n",
    "\n",
    "def X(dx): \n",
    "    listaDeMaioresValores = []\n",
    "    for i in range(2, 21):\n",
    "        x = np.linspace(0,10,2**i)\n",
    "    dx = x[1]-x[0]\n",
    "    tamanhoX = len(x)\n",
    "    ultimoValorX = x[tamanhoX - 1]\n",
    "    listaDeMaioresValores.append(ultimoValorXm)\n",
    "    \n",
    "#O objetivo do gráfico é mostrar o menor valor de dx para que o erro seja mínimo (?)\n",
    "\n",
    "\n",
    "func = f(x)\n",
    "log_erro = erro_relativo(D2f(f,x),np.exp(x))\n",
    "\n",
    "\n",
    "plt.figure(figsize=(10,10))\n",
    "plt.subplot(2,1,1)\n",
    "plt.plot(x,f, label=(\"f(x)\")) , plt.legend(loc=2)\n",
    "plt.plot(x,Df(f,x),'o', label=(\"1° derivada de f(x)\")) , plt.legend(loc=2)\n",
    "plt.plot(x,D2f(f,x),'--', label=(\"2° derivada de f(x)\")) , plt.legend(loc=2)\n",
    "plt.xlabel(\"x\")\n",
    "plt.ylabel(\"f(x), Df(x) e D2f(x)\")"
   ]
  },
  {
   "cell_type": "code",
   "execution_count": null,
   "metadata": {},
   "outputs": [],
   "source": []
  }
 ],
 "metadata": {
  "kernelspec": {
   "display_name": "Python 3",
   "language": "python",
   "name": "python3"
  },
  "language_info": {
   "codemirror_mode": {
    "name": "ipython",
    "version": 3
   },
   "file_extension": ".py",
   "mimetype": "text/x-python",
   "name": "python",
   "nbconvert_exporter": "python",
   "pygments_lexer": "ipython3",
   "version": "3.5.2"
  }
 },
 "nbformat": 4,
 "nbformat_minor": 2
}
