{
 "cells": [
  {
   "cell_type": "markdown",
   "metadata": {},
   "source": [
    "Nome: Lais de Figueiredo Maia ; 2016034704"
   ]
  },
  {
   "cell_type": "code",
   "execution_count": 1,
   "metadata": {},
   "outputs": [],
   "source": [
    "import numpy as np\n",
    "import matplotlib.pyplot as plt\n",
    "%matplotlib inline"
   ]
  },
  {
   "cell_type": "code",
   "execution_count": 2,
   "metadata": {},
   "outputs": [
    {
     "ename": "SyntaxError",
     "evalue": "invalid syntax (<ipython-input-2-2e132e6d2a42>, line 30)",
     "output_type": "error",
     "traceback": [
      "\u001b[0;36m  File \u001b[0;32m\"<ipython-input-2-2e132e6d2a42>\"\u001b[0;36m, line \u001b[0;32m30\u001b[0m\n\u001b[0;31m    def xm = np.linspace(0,10,2**i):\u001b[0m\n\u001b[0m           ^\u001b[0m\n\u001b[0;31mSyntaxError\u001b[0m\u001b[0;31m:\u001b[0m invalid syntax\n"
     ]
    }
   ],
   "source": [
    "# PROGRAMA PARA CALCULAR PRIMEIRA E SEGUNDA DERIVADA DA FUNÇÃO ARBITRARIA f(x)\n",
    "\n",
    "def f(x):\n",
    "    return np.exp(x)\n",
    "\n",
    "# primeira derivada, DFC\n",
    "def Df(f,x):\n",
    "    dx = x[1]-x[0]\n",
    "    xp = x+dx\n",
    "    xm = x-dx\n",
    "    Df = (f(xp)-f(xm))/(2*dx)\n",
    "    return Df\n",
    "\n",
    "# segunda derivada, DFC\n",
    "def D2f(f,x):\n",
    "    dx = x[1]-x[0]\n",
    "    xp = x+dx\n",
    "    xm = x-dx\n",
    "    D2f = (f(xp)-2.*f(x) + f(xm))/(dx*dx)\n",
    "    return D2f\n",
    "\n",
    "# erro relativo\n",
    "def erro_relativo(a,b):\n",
    "    b = np.exp(x)\n",
    "    a = D2f(f,x) \n",
    "    erro_relativo = (np.abs(D2f(f,x) - D2e))/(np.abs(D2e))\n",
    "    log_erro = np.log(erro_relativo)\n",
    "    return log_erro\n",
    "\n",
    "def xm = np.linspace(0,10,2**i):\n",
    "    for i in range(0,20)\n",
    "        return xm\n",
    "    \n",
    "\n",
    "\n",
    "\n",
    "n = 64\n",
    "x = np.linspace(0.,10.,n)\n",
    "a1 = f(x)\n",
    "dx = x[1]-x[0]\n",
    "log1 = erro_relativo(np.exp(x),D2f(f,x))\n",
    "\n",
    "plt.subplot(2,1,1)\n",
    "plt.plot(x,a1)\n",
    "plt.plot(x,Df(f,x),'o')\n",
    "plt.plot(x,D2f(f,x),'--')\n",
    "\n",
    "plt.subplot(2,1,2)\n",
    "plt.plot(np.log(dx),log1)\n",
    "\n"
   ]
  },
  {
   "cell_type": "code",
   "execution_count": null,
   "metadata": {},
   "outputs": [],
   "source": []
  },
  {
   "cell_type": "code",
   "execution_count": 67,
   "metadata": {},
   "outputs": [],
   "source": [
    "\n",
    "\n"
   ]
  },
  {
   "cell_type": "code",
   "execution_count": null,
   "metadata": {},
   "outputs": [],
   "source": []
  },
  {
   "cell_type": "code",
   "execution_count": null,
   "metadata": {},
   "outputs": [],
   "source": []
  },
  {
   "cell_type": "code",
   "execution_count": 51,
   "metadata": {},
   "outputs": [],
   "source": []
  },
  {
   "cell_type": "code",
   "execution_count": null,
   "metadata": {},
   "outputs": [],
   "source": []
  },
  {
   "cell_type": "code",
   "execution_count": 52,
   "metadata": {},
   "outputs": [],
   "source": [
    "D2e = np.exp(x)"
   ]
  },
  {
   "cell_type": "code",
   "execution_count": 68,
   "metadata": {},
   "outputs": [
    {
     "ename": "NameError",
     "evalue": "name 'del_x' is not defined",
     "output_type": "error",
     "traceback": [
      "\u001b[0;31m---------------------------------------------------------------------------\u001b[0m",
      "\u001b[0;31mNameError\u001b[0m                                 Traceback (most recent call last)",
      "\u001b[0;32m<ipython-input-68-1f56aac40c91>\u001b[0m in \u001b[0;36m<module>\u001b[0;34m\u001b[0m\n\u001b[1;32m      1\u001b[0m \u001b[0;31m#gráfico delta x em função do erro relativo e\u001b[0m\u001b[0;34m\u001b[0m\u001b[0;34m\u001b[0m\u001b[0m\n\u001b[1;32m      2\u001b[0m \u001b[0;34m\u001b[0m\u001b[0m\n\u001b[0;32m----> 3\u001b[0;31m \u001b[0mplt\u001b[0m\u001b[0;34m.\u001b[0m\u001b[0mplot\u001b[0m\u001b[0;34m(\u001b[0m\u001b[0mnp\u001b[0m\u001b[0;34m.\u001b[0m\u001b[0mlog\u001b[0m\u001b[0;34m(\u001b[0m\u001b[0mdel_x\u001b[0m\u001b[0;34m)\u001b[0m\u001b[0;34m,\u001b[0m \u001b[0mnp\u001b[0m\u001b[0;34m.\u001b[0m\u001b[0mlog\u001b[0m\u001b[0;34m(\u001b[0m\u001b[0merro_relativo\u001b[0m\u001b[0;34m)\u001b[0m\u001b[0;34m)\u001b[0m\u001b[0;34m\u001b[0m\u001b[0m\n\u001b[0m",
      "\u001b[0;31mNameError\u001b[0m: name 'del_x' is not defined"
     ]
    }
   ],
   "source": [
    "#gráfico delta x em função do erro relativo e\n",
    "\n",
    "plt.plot(np.log(del_x), np.log(erro_relativo))"
   ]
  },
  {
   "cell_type": "code",
   "execution_count": null,
   "metadata": {},
   "outputs": [],
   "source": [
    "\"\"\"def erro_relativo(df2,D2e):\n",
    "    D2e = np.exp(x)\n",
    "    erro_relativo = np.abs((df2 - D2e)/D2e)\n",
    "    return erro_relativo\n",
    "\"\"\"\n",
    "#plt.plot(np.log(del_x), np.log(erro_relativo))\n",
    "\n",
    "\"\"\"def erro_relativo(d2f,D2e):\n",
    "    D2e = np.exp(x)\n",
    "    d2f = d2f\n",
    "    erro_relativo = np.abs((d2f - D2e)/D2e)\n",
    "    return erro_relativo\n",
    "\"\"\"\n"
   ]
  },
  {
   "cell_type": "code",
   "execution_count": null,
   "metadata": {},
   "outputs": [],
   "source": []
  }
 ],
 "metadata": {
  "kernelspec": {
   "display_name": "Python 3",
   "language": "python",
   "name": "python3"
  },
  "language_info": {
   "codemirror_mode": {
    "name": "ipython",
    "version": 3
   },
   "file_extension": ".py",
   "mimetype": "text/x-python",
   "name": "python",
   "nbconvert_exporter": "python",
   "pygments_lexer": "ipython3",
   "version": "3.5.2"
  }
 },
 "nbformat": 4,
 "nbformat_minor": 2
}
