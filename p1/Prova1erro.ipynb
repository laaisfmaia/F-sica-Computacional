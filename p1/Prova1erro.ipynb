{
 "cells": [
  {
   "cell_type": "code",
   "execution_count": 94,
   "metadata": {},
   "outputs": [],
   "source": [
    "import numpy as np\n",
    "import matplotlib.pyplot as plt\n",
    "plt.rcParams['figure.figsize'] = (8,5)"
   ]
  },
  {
   "cell_type": "code",
   "execution_count": 178,
   "metadata": {},
   "outputs": [],
   "source": [
    "class Orbita(object):\n",
    "    \"\"\"\n",
    "    Tempo em anos\n",
    "    Raio em UA\n",
    "    \"\"\"\n",
    "    def __init__(self,t, R, P,r,p):\n",
    "        self.t = t\n",
    "        self.R = R\n",
    "        self.P = P\n",
    "        self.r = r\n",
    "        self.p = p\n",
    "        \n",
    "    def PosiçãoPlaneta(self):\n",
    "        x_p = self.R*np.cos((2*np.pi/self.P)*self.t)\n",
    "        y_p = self.R*np.sin((2*np.pi/self.P)*self.t)\n",
    "        return x_p,y_p\n",
    "    \n",
    "    def PosiçãoSatélite(self):\n",
    "        \"\"\"\n",
    "        Essa função determina a posição do planeta.\n",
    "        \"\"\"\n",
    "        x_s = self.R*np.cos((2*np.pi/self.P)*self.t) + self.r*np.cos((2*np.pi/self.p)*self.t)\n",
    "        y_s = self.R*np.sin((2*np.pi/self.P)*self.t) + self.r*np.sin((2*np.pi/self.p)*self.t)\n",
    "        return x_s,y_s\n",
    "    \n",
    "    def GráficoTerra(self):\n",
    "        x_p = self.R*np.cos((2*np.pi/self.P)*self.t)\n",
    "        y_p = self.R*np.sin((2*np.pi/self.P)*self.t)\n",
    "        GráficoT_xy = plt.subplot(1,2,1), plt.plot(x_p,y_p), plt.title(\"Órbita\")\n",
    "        GráficoT_tempo = plt.subplot(1,2,2), plt.plot(self.t,x_p),plt.plot(self.t,y_p), plt.xlabel(\"Tempo\"), plt.ylabel(\"Posição\")\n",
    "        return GráficoT_xy, GráficoT_tempo\n",
    "    \n",
    "    def GráficoSatélite(self):\n",
    "        x_s = self.R*np.cos((2*np.pi/self.P)*self.t) + self.r*np.cos((2*np.pi/self.p)*self.t)\n",
    "        y_s = self.R*np.sin((2*np.pi/self.P)*self.t) + self.r*np.sin((2*np.pi/self.p)*self.t)\n",
    "        GráficoS_xy = plt.subplot(1,2,1), plt.plot(x_s,y_s), plt.title(\"Órbita\")\n",
    "        GráficoS_tempo = plt.subplot(1,2,2), plt.plot(self.t,x_s),plt.plot(self.t,y_s), plt.xlabel(\"Tempo\"), plt.ylabel(\"Posição\")\n",
    "        return GráficoS_xy, GráficoS_tempo\n",
    "    \n",
    "    def Gráficos(self):\n",
    "        Gráficos = plt.plot(self.x_s,self.y_s), plt.plot(self.x_p,self.y_p), plt.title(\"Órbita\")\n",
    "        "
   ]
  },
  {
   "cell_type": "code",
   "execution_count": 179,
   "metadata": {},
   "outputs": [
    {
     "ename": "AttributeError",
     "evalue": "'Orbita' object has no attribute 'x_s'",
     "output_type": "error",
     "traceback": [
      "\u001b[0;31m---------------------------------------------------------------------------\u001b[0m",
      "\u001b[0;31mAttributeError\u001b[0m                            Traceback (most recent call last)",
      "\u001b[0;32m<ipython-input-179-2c89db948c54>\u001b[0m in \u001b[0;36m<module>\u001b[0;34m\u001b[0m\n\u001b[1;32m      1\u001b[0m \u001b[0mTerra_Lua\u001b[0m \u001b[0;34m=\u001b[0m \u001b[0mOrbita\u001b[0m\u001b[0;34m(\u001b[0m\u001b[0mt\u001b[0m\u001b[0;34m=\u001b[0m\u001b[0mnp\u001b[0m\u001b[0;34m.\u001b[0m\u001b[0mlinspace\u001b[0m\u001b[0;34m(\u001b[0m\u001b[0;36m0\u001b[0m\u001b[0;34m,\u001b[0m\u001b[0;36m1\u001b[0m\u001b[0;34m,\u001b[0m\u001b[0;36m100\u001b[0m\u001b[0;34m)\u001b[0m\u001b[0;34m,\u001b[0m\u001b[0mR\u001b[0m\u001b[0;34m=\u001b[0m\u001b[0;36m1\u001b[0m\u001b[0;34m,\u001b[0m\u001b[0mP\u001b[0m\u001b[0;34m=\u001b[0m\u001b[0;36m1\u001b[0m\u001b[0;34m,\u001b[0m\u001b[0mr\u001b[0m\u001b[0;34m=\u001b[0m\u001b[0;36m0.025\u001b[0m\u001b[0;34m,\u001b[0m\u001b[0mp\u001b[0m\u001b[0;34m=\u001b[0m\u001b[0;36m1\u001b[0m\u001b[0;34m/\u001b[0m\u001b[0;36m12\u001b[0m\u001b[0;34m)\u001b[0m\u001b[0;34m\u001b[0m\u001b[0m\n\u001b[1;32m      2\u001b[0m \u001b[0;34m\u001b[0m\u001b[0m\n\u001b[0;32m----> 3\u001b[0;31m \u001b[0mOrbita\u001b[0m\u001b[0;34m.\u001b[0m\u001b[0mGráficos\u001b[0m\u001b[0;34m(\u001b[0m\u001b[0mTerra_Lua\u001b[0m\u001b[0;34m)\u001b[0m\u001b[0;34m\u001b[0m\u001b[0m\n\u001b[0m",
      "\u001b[0;32m<ipython-input-178-b45ead954ff2>\u001b[0m in \u001b[0;36mGráficos\u001b[0;34m(self)\u001b[0m\n\u001b[1;32m     36\u001b[0m \u001b[0;34m\u001b[0m\u001b[0m\n\u001b[1;32m     37\u001b[0m     \u001b[0;32mdef\u001b[0m \u001b[0mGráficos\u001b[0m\u001b[0;34m(\u001b[0m\u001b[0mself\u001b[0m\u001b[0;34m)\u001b[0m\u001b[0;34m:\u001b[0m\u001b[0;34m\u001b[0m\u001b[0m\n\u001b[0;32m---> 38\u001b[0;31m         \u001b[0mGráficos\u001b[0m \u001b[0;34m=\u001b[0m \u001b[0mplt\u001b[0m\u001b[0;34m.\u001b[0m\u001b[0mplot\u001b[0m\u001b[0;34m(\u001b[0m\u001b[0mself\u001b[0m\u001b[0;34m.\u001b[0m\u001b[0mx_s\u001b[0m\u001b[0;34m,\u001b[0m\u001b[0mself\u001b[0m\u001b[0;34m.\u001b[0m\u001b[0my_s\u001b[0m\u001b[0;34m)\u001b[0m\u001b[0;34m,\u001b[0m \u001b[0mplt\u001b[0m\u001b[0;34m.\u001b[0m\u001b[0mplot\u001b[0m\u001b[0;34m(\u001b[0m\u001b[0mself\u001b[0m\u001b[0;34m.\u001b[0m\u001b[0mx_p\u001b[0m\u001b[0;34m,\u001b[0m\u001b[0mself\u001b[0m\u001b[0;34m.\u001b[0m\u001b[0my_p\u001b[0m\u001b[0;34m)\u001b[0m\u001b[0;34m,\u001b[0m \u001b[0mplt\u001b[0m\u001b[0;34m.\u001b[0m\u001b[0mtitle\u001b[0m\u001b[0;34m(\u001b[0m\u001b[0;34m\"Órbita\"\u001b[0m\u001b[0;34m)\u001b[0m\u001b[0;34m\u001b[0m\u001b[0m\n\u001b[0m\u001b[1;32m     39\u001b[0m \u001b[0;34m\u001b[0m\u001b[0m\n",
      "\u001b[0;31mAttributeError\u001b[0m: 'Orbita' object has no attribute 'x_s'"
     ]
    }
   ],
   "source": [
    "Terra_Lua = Orbita(t=np.linspace(0,1,100),R=1,P=1,r=0.025,p=1/12)\n",
    "\n",
    "Orbita.Gráficosua)"
   ]
  },
  {
   "cell_type": "code",
   "execution_count": null,
   "metadata": {},
   "outputs": [],
   "source": [
    "#def posiçãoYp(x,R,w):\n",
    "        #return self.x == R*np.sen(w*t)"
   ]
  },
  {
   "cell_type": "code",
   "execution_count": null,
   "metadata": {},
   "outputs": [],
   "source": [
    "plt.subplot(1,2,1), plt.plot(x,y) , plt.subplot(1,2,2), plt.plot(t,x),plt.plot(t,y)"
   ]
  }
 ],
 "metadata": {
  "kernelspec": {
   "display_name": "Python 3",
   "language": "python",
   "name": "python3"
  },
  "language_info": {
   "codemirror_mode": {
    "name": "ipython",
    "version": 3
   },
   "file_extension": ".py",
   "mimetype": "text/x-python",
   "name": "python",
   "nbconvert_exporter": "python",
   "pygments_lexer": "ipython3",
   "version": "3.5.2"
  }
 },
 "nbformat": 4,
 "nbformat_minor": 2
}
